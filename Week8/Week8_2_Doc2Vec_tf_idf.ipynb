{
 "cells": [
  {
   "cell_type": "markdown",
   "metadata": {},
   "source": [
    "######  <span style=\"font-family: Arial; font-weight:bold;font-size:1.5em;color:#c3b235\">Word2Vec and TF-IDF\n",
    "<font color=darkblue>\n",
    "\n",
    "- 1. <a href = #link1>Create a Doc2Vec model that represents words and documents into numerical vectors</a>\n",
    "- 2. <a href = #link2>Find words related to other words</a>\n",
    "- 3. <a href = #link3>Find the document that has the closest meaning to a list of key words like in a search engine</a>\n",
    "- 4. <a href = #link4>Create a TF-IDF search engine</a>    "
   ]
  },
  {
   "cell_type": "markdown",
   "metadata": {},
   "source": [
    "######  <span style=\"font-family: Arial; font-weight:bold;font-size:1.em;color:#d40eea\">Import Libraries\n",
    "<font color=darkblue>"
   ]
  },
  {
   "cell_type": "code",
   "execution_count": 2,
   "metadata": {},
   "outputs": [
    {
     "name": "stderr",
     "output_type": "stream",
     "text": [
      "/home/jayanthikishore/anaconda3/lib/python3.8/site-packages/gensim/similarities/__init__.py:15: UserWarning:\n",
      "\n",
      "The gensim.similarities.levenshtein submodule is disabled, because the optional Levenshtein package <https://pypi.org/project/python-Levenshtein/> is unavailable. Install Levenhstein (e.g. `pip install python-Levenshtein`) to suppress this warning.\n",
      "\n"
     ]
    }
   ],
   "source": [
    "import numpy as np\n",
    "import pandas as pd\n",
    "import matplotlib.pyplot as plt\n",
    "%matplotlib inline\n",
    "\n",
    "from gensim.models import Doc2Vec\n",
    "from collections import namedtuple\n",
    "import gensim.utils\n",
    "from langdetect import detect\n",
    "import re\n",
    "import string"
   ]
  },
  {
   "cell_type": "markdown",
   "metadata": {},
   "source": [
    "######  <span style=\"font-family: Arial; font-weight:bold;font-size:1.em;color:#b0c335\">Load and explore the dataset\n",
    "<font color=darkblue>"
   ]
  },
  {
   "cell_type": "code",
   "execution_count": 4,
   "metadata": {},
   "outputs": [
    {
     "data": {
      "text/html": [
       "<div>\n",
       "<style scoped>\n",
       "    .dataframe tbody tr th:only-of-type {\n",
       "        vertical-align: middle;\n",
       "    }\n",
       "\n",
       "    .dataframe tbody tr th {\n",
       "        vertical-align: top;\n",
       "    }\n",
       "\n",
       "    .dataframe thead th {\n",
       "        text-align: right;\n",
       "    }\n",
       "</style>\n",
       "<table border=\"1\" class=\"dataframe\">\n",
       "  <thead>\n",
       "    <tr style=\"text-align: right;\">\n",
       "      <th></th>\n",
       "      <th>overview</th>\n",
       "      <th>original_title</th>\n",
       "    </tr>\n",
       "  </thead>\n",
       "  <tbody>\n",
       "    <tr>\n",
       "      <th>0</th>\n",
       "      <td>Led by Woody, Andy's toys live happily in his ...</td>\n",
       "      <td>Toy Story</td>\n",
       "    </tr>\n",
       "    <tr>\n",
       "      <th>1</th>\n",
       "      <td>When siblings Judy and Peter discover an encha...</td>\n",
       "      <td>Jumanji</td>\n",
       "    </tr>\n",
       "    <tr>\n",
       "      <th>2</th>\n",
       "      <td>A family wedding reignites the ancient feud be...</td>\n",
       "      <td>Grumpier Old Men</td>\n",
       "    </tr>\n",
       "    <tr>\n",
       "      <th>3</th>\n",
       "      <td>Cheated on, mistreated and stepped on, the wom...</td>\n",
       "      <td>Waiting to Exhale</td>\n",
       "    </tr>\n",
       "    <tr>\n",
       "      <th>4</th>\n",
       "      <td>Just when George Banks has recovered from his ...</td>\n",
       "      <td>Father of the Bride Part II</td>\n",
       "    </tr>\n",
       "  </tbody>\n",
       "</table>\n",
       "</div>"
      ],
      "text/plain": [
       "                                            overview  \\\n",
       "0  Led by Woody, Andy's toys live happily in his ...   \n",
       "1  When siblings Judy and Peter discover an encha...   \n",
       "2  A family wedding reignites the ancient feud be...   \n",
       "3  Cheated on, mistreated and stepped on, the wom...   \n",
       "4  Just when George Banks has recovered from his ...   \n",
       "\n",
       "                original_title  \n",
       "0                    Toy Story  \n",
       "1                      Jumanji  \n",
       "2             Grumpier Old Men  \n",
       "3            Waiting to Exhale  \n",
       "4  Father of the Bride Part II  "
      ]
     },
     "execution_count": 4,
     "metadata": {},
     "output_type": "execute_result"
    }
   ],
   "source": [
    "imdbdata=pd.read_csv('/home/jayanthikishore/Downloads/doc2vec/tutorials/movies.csv')\n",
    "data = np.array(imdbdata.overview)\n",
    "titles=np.array(imdbdata.original_title)\n",
    "\n",
    "imdbdata.head()\n"
   ]
  },
  {
   "cell_type": "markdown",
   "metadata": {},
   "source": [
    "######  <span style=\"font-family: Arial; font-weight:bold;font-size:1.25em;color:#3546c3\">Preprocessing the text data\n",
    "<font color=darkblue>"
   ]
  },
  {
   "cell_type": "code",
   "execution_count": 5,
   "metadata": {},
   "outputs": [],
   "source": [
    "SentimentDocument = namedtuple('SentimentDocument', 'words tags title original_number')\n",
    "n=0\n",
    "alldocs = []  # Will hold all docs in original order\n",
    "\n",
    "regex = re.compile('[%s]' % re.escape(string.punctuation)) #to remove punctuation\n",
    "\n",
    "for line_no, line in enumerate(data):\n",
    "    if (type(line)==str):\n",
    "        if (len(line)>150):\n",
    "            if (detect(line) == 'en') :\n",
    "                line = regex.sub('', line)\n",
    "                tokens = gensim.utils.to_unicode(line).lower().split()\n",
    "                words = tokens[0:]\n",
    "                tags = [n]\n",
    "                title = titles[line_no]\n",
    "                alldocs.append(SentimentDocument(words, tags, title, line_no))\n",
    "                n=n+1\n"
   ]
  },
  {
   "cell_type": "markdown",
   "metadata": {},
   "source": [
    "######  <span style=\"font-family: Arial; font-weight:bold;font-size:1.15em;color:#a435c3\">Some insights of the dataset:\n",
    "<font color=darkblue>"
   ]
  },
  {
   "cell_type": "code",
   "execution_count": 6,
   "metadata": {},
   "outputs": [
    {
     "name": "stdout",
     "output_type": "stream",
     "text": [
      "Number of Documents :  34178\n",
      "Mean length of documents :  65.90962022353561\n"
     ]
    },
    {
     "data": {
      "text/plain": [
       "Text(0, 0.5, 'Length of the description')"
      ]
     },
     "execution_count": 6,
     "metadata": {},
     "output_type": "execute_result"
    },
    {
     "data": {
      "image/png": "[encoded data removed]",
      "text/plain": [
       "<Figure size 1440x432 with 1 Axes>"
      ]
     },
     "metadata": {
      "needs_background": "light"
     },
     "output_type": "display_data"
    }
   ],
   "source": [
    "l = []\n",
    "for doc in alldocs:\n",
    "    l.append(len(doc.words))\n",
    "\n",
    "print('Number of Documents : ', len(alldocs))\n",
    "print('Mean length of documents : ', np.mean(l))\n",
    "\n",
    "plt.figure (figsize=(20, 6))\n",
    "plt.bar(range(0, len(l)), l)\n",
    "plt.xlabel('Documents')\n",
    "plt.ylabel('Length of the description')\n"
   ]
  },
  {
   "cell_type": "markdown",
   "metadata": {},
   "source": [
    "######  <span style=\"font-family: Arial; font-weight:bold;font-size:1.25em;color:#a435c3\">Doc2Vec model:\n",
    "<font color=darkblue>\n",
    "<br>\n",
    "-  The vectors will be of size 300 and the window size is 10. We are ignoring words count that are less than 10 times in the entire corpus.\n",
    "    \n",
    "- <a href = #link1>gensim : https://radimrehurek.com/gensim/ </a>\n",
    "- <a href = #link2>Doc2Vec : https://radimrehurek.com/gensim/models/doc2vec.html </a>\n",
    "- <a href = #link3>A great article introducing the concepts behind Doc2Vec : https://medium.com/scaleabout/a-gentle-introduction-to-doc2vec-db3e8c0cce5e </a> \n",
    "- <a href = #link3>Detailed scientific paper : https://cs.stanford.edu/~quocle/paragraph_vector.pdf </a>   "
   ]
  },
  {
   "cell_type": "code",
   "execution_count": 7,
   "metadata": {},
   "outputs": [
    {
     "name": "stdout",
     "output_type": "stream",
     "text": [
      "SentimentDocument(words=['led', 'by', 'woody', 'andys', 'toys', 'live', 'happily', 'in', 'his', 'room', 'until', 'andys', 'birthday', 'brings', 'buzz', 'lightyear', 'onto', 'the', 'scene', 'afraid', 'of', 'losing', 'his', 'place', 'in', 'andys', 'heart', 'woody', 'plots', 'against', 'buzz', 'but', 'when', 'circumstances', 'separate', 'buzz', 'and', 'woody', 'from', 'their', 'owner', 'the', 'duo', 'eventually', 'learns', 'to', 'put', 'aside', 'their', 'differences'], tags=[0], title='Toy Story', original_number=0) \n",
      "\n",
      "Led by Woody, Andy's toys live happily in his room until Andy's birthday brings Buzz Lightyear onto the scene. Afraid of losing his place in Andy's heart, Woody plots against Buzz. But when circumstances separate Buzz and Woody from their owner, the duo eventually learns to put aside their differences.\n"
     ]
    }
   ],
   "source": [
    "# An example of how the list alldocs is build\n",
    "\n",
    "index = 0\n",
    "doc = alldocs[index]\n",
    "print(doc, '\\n')\n",
    "print(data[doc.original_number])"
   ]
  },
  {
   "cell_type": "code",
   "execution_count": 9,
   "metadata": {},
   "outputs": [],
   "source": [
    "# PV-DM\n",
    "model = Doc2Vec(dm=1, vector_size=300,window=10,hs=0,min_count=10,dbow_words=1,sample=1e-5)\n",
    "\n",
    "# build the vocabulary \n",
    "model.build_vocab(alldocs)\n"
   ]
  },
  {
   "cell_type": "code",
   "execution_count": 10,
   "metadata": {},
   "outputs": [],
   "source": [
    "model.train(alldocs, total_examples=model.corpus_count, epochs=100, start_alpha=0.01, end_alpha=0.01)"
   ]
  },
  {
   "cell_type": "code",
   "execution_count": 11,
   "metadata": {},
   "outputs": [],
   "source": [
    "# model.save(\"/home/jayanthikishore/Downloads/model\")\n",
    "#Doc2Vec.load(\"model\")"
   ]
  },
  {
   "cell_type": "markdown",
   "metadata": {},
   "source": [
    "######  <span style=\"font-family: Arial; font-weight:bold;font-size:1.15em;color:#a435c3\">Evaluating words embedding\n",
    "<font color=darkblue>"
   ]
  },
  {
   "cell_type": "code",
   "execution_count": 12,
   "metadata": {},
   "outputs": [
    {
     "data": {
      "text/plain": [
       "[('madly', 0.8194813132286072),\n",
       " ('falls', 0.81402987241745),\n",
       " ('fall', 0.8048554062843323),\n",
       " ('falling', 0.7534124255180359),\n",
       " ('unrequited', 0.7526795864105225),\n",
       " ('triangle', 0.7506674528121948),\n",
       " ('passionately', 0.74207603931427),\n",
       " ('starcrossed', 0.7316624522209167),\n",
       " ('heartbreak', 0.7296435832977295),\n",
       " ('hopelessly', 0.7226974964141846)]"
      ]
     },
     "execution_count": 12,
     "metadata": {},
     "output_type": "execute_result"
    }
   ],
   "source": [
    "model.wv.most_similar_cosmul(positive = [\"love\"])"
   ]
  },
  {
   "cell_type": "code",
   "execution_count": 13,
   "metadata": {},
   "outputs": [
    {
     "data": {
      "text/plain": [
       "[('ii', 0.8962222337722778),\n",
       " ('trenches', 0.8318049907684326),\n",
       " ('civil', 0.8221935033798218),\n",
       " ('gis', 0.8205772638320923),\n",
       " ('vietnam', 0.8036419749259949),\n",
       " ('frontline', 0.8030383586883545),\n",
       " ('ww', 0.8027049899101257),\n",
       " ('infantry', 0.794455349445343),\n",
       " ('rages', 0.7940611243247986),\n",
       " ('partisan', 0.7846501469612122)]"
      ]
     },
     "execution_count": 13,
     "metadata": {},
     "output_type": "execute_result"
    }
   ],
   "source": [
    "model.wv.most_similar_cosmul(positive = [\"war\"])"
   ]
  },
  {
   "cell_type": "code",
   "execution_count": 14,
   "metadata": {},
   "outputs": [
    {
     "data": {
      "text/plain": [
       "[('outer', 0.8890290260314941),\n",
       " ('mars', 0.8748528361320496),\n",
       " ('planet', 0.8673110604286194),\n",
       " ('astronaut', 0.8645124435424805),\n",
       " ('astronauts', 0.8616443872451782),\n",
       " ('nasa', 0.8566944599151611),\n",
       " ('asteroid', 0.8562235832214355),\n",
       " ('spacecraft', 0.8482164144515991),\n",
       " ('earth', 0.8451465964317322),\n",
       " ('spaceship', 0.8404451608657837)]"
      ]
     },
     "execution_count": 14,
     "metadata": {},
     "output_type": "execute_result"
    }
   ],
   "source": [
    "model.wv.most_similar_cosmul(positive = [\"space\"])"
   ]
  },
  {
   "cell_type": "code",
   "execution_count": 15,
   "metadata": {},
   "outputs": [
    {
     "data": {
      "text/plain": [
       "[('queen', 0.8273528814315796),\n",
       " ('empress', 0.8262735605239868),\n",
       " ('throne', 0.8220264315605164),\n",
       " ('princess', 0.8130974173545837),\n",
       " ('palace', 0.808713972568512),\n",
       " ('prince', 0.7921130657196045),\n",
       " ('dartagnan', 0.7826076149940491),\n",
       " ('pauline', 0.7781083583831787),\n",
       " ('crowned', 0.7762027978897095),\n",
       " ('goddess', 0.7751016616821289)]"
      ]
     },
     "execution_count": 15,
     "metadata": {},
     "output_type": "execute_result"
    }
   ],
   "source": [
    "model.wv.most_similar_cosmul(negative = [\"man\"], positive = [\"king\",\"woman\"])\n"
   ]
  },
  {
   "cell_type": "markdown",
   "metadata": {},
   "source": [
    "######  <span style=\"font-family: Arial; font-weight:bold;font-size:1.15em;color:#a435c3\">Evaluating documents embedding\n",
    "<font color=darkblue>"
   ]
  },
  {
   "cell_type": "code",
   "execution_count": 16,
   "metadata": {},
   "outputs": [
    {
     "name": "stdout",
     "output_type": "stream",
     "text": [
      "Document :  The story Jewish counterfeiter, Salomon Sorowitsch, coerced into assisting the Nazi operation of the Sachsenhausen concentration camp during World War II. \n",
      "\n",
      "Titre :  Die Fälscher\n",
      "Distance :  0.8707342743873596\n"
     ]
    },
    {
     "name": "stderr",
     "output_type": "stream",
     "text": [
      "<ipython-input-16-7ae03a6fa9de>:6: DeprecationWarning:\n",
      "\n",
      "Call to deprecated `docvecs` (The `docvecs` property has been renamed `dv`.).\n",
      "\n"
     ]
    }
   ],
   "source": [
    "# Closest document to the word \"war\"\n",
    "\n",
    "tokens = \"war\"\n",
    "\n",
    "new_vector = model.infer_vector(tokens.split() ,alpha=0.001 ,steps = 5)\n",
    "tagsim = model.docvecs.most_similar([new_vector])[0]\n",
    "\n",
    "docsim = alldocs[tagsim[0] ]\n",
    "\n",
    "print(\"Document : \", data[docsim.original_number], \"\\n\")\n",
    "print(\"Titre : \", docsim.title)\n",
    "print(\"Distance : \", tagsim[1])"
   ]
  },
  {
   "cell_type": "code",
   "execution_count": 19,
   "metadata": {},
   "outputs": [
    {
     "name": "stdout",
     "output_type": "stream",
     "text": [
      "Most :  A fantasy film with horror elements, \"The Tale of Tales\" is loosely inspired by the 17th century collection of fairy tales of the same name by Italian writer Giambattista Basile. \n",
      "\n"
     ]
    },
    {
     "name": "stderr",
     "output_type": "stream",
     "text": [
      "<ipython-input-19-a8004e5de420>:6: DeprecationWarning:\n",
      "\n",
      "Call to deprecated `docvecs` (The `docvecs` property has been renamed `dv`.).\n",
      "\n"
     ]
    }
   ],
   "source": [
    "# Closest document to the word \"love\"\n",
    "\n",
    "tokens = \"love\"\n",
    "\n",
    "new_vector = model.infer_vector(tokens.split() ,alpha=0.001 ,steps = 5)\n",
    "sims = model.docvecs.most_similar([new_vector], topn=1) # get *all* similar documents\n",
    "\n",
    "print(\"Most : \" , data[alldocs[sims[0][0]].original_number], \"\\n\") \n",
    "print(\"Median : \" , data[alldocs[sims[17000][0]].original_number], \"\\n\")\n",
    "print(\"Least : \" , data[alldocs[sims[-1][0]].original_number])\n",
    "\n"
   ]
  },
  {
   "cell_type": "markdown",
   "metadata": {},
   "source": [
    "######  <span style=\"font-family: Arial; font-weight:bold;font-size:1.15em;color:#a435c3\">Creating the TF-IDF model\n",
    "<font color=darkblue>\n",
    "  \n",
    "- We create the TF-IDF model from the list alldocs with the module TfidfModel from gensim.\n",
    "- gensim : https://radimrehurek.com/gensim/ \n",
    "- Tf-Idf : https://radimrehurek.com/gensim/models/tfidfmodel.html "
   ]
  },
  {
   "cell_type": "code",
   "execution_count": 21,
   "metadata": {},
   "outputs": [],
   "source": [
    "from gensim.models import TfidfModel\n",
    "from gensim.corpora import Dictionary\n",
    "from gensim import similarities \n",
    "\n",
    "dct = Dictionary(doc.words for doc in alldocs)  # fit dictionary\n",
    "corpus = [dct.doc2bow(line.words) for line in alldocs]  # convert dataset to BoW format\n",
    "model_tfidf = TfidfModel(corpus)  # fit model"
   ]
  },
  {
   "cell_type": "code",
   "execution_count": 22,
   "metadata": {},
   "outputs": [
    {
     "name": "stdout",
     "output_type": "stream",
     "text": [
      "Document  0  :  Led by Woody, Andy's toys live happily in his room until Andy's birthday brings Buzz Lightyear onto the scene. Afraid of losing his place in Andy's heart, Woody plots against Buzz. But when circumstances separate Buzz and Woody from their owner, the duo eventually learns to put aside their differences.\n",
      "Bag of words representation of document  0  :  [(0, 1), (1, 1), (2, 1), (3, 3), (4, 1), (5, 1), (6, 1), (7, 1), (8, 3), (9, 1), (10, 1), (11, 1), (12, 1), (13, 1), (14, 1), (15, 1), (16, 1), (17, 2), (18, 2), (19, 1), (20, 1), (21, 1), (22, 1), (23, 1), (24, 1), (25, 1), (26, 1), (27, 1), (28, 1), (29, 1), (30, 1), (31, 1), (32, 1), (33, 2), (34, 2), (35, 1), (36, 1), (37, 1), (38, 1), (39, 3)]\n"
     ]
    }
   ],
   "source": [
    "# for example \n",
    " \n",
    "index = 0\n",
    "print(\"Document \",index, \" : \", data[alldocs[index].original_number] ) \n",
    "print(\"Bag of words representation of document \", index, \" : \", corpus[index])"
   ]
  },
  {
   "cell_type": "markdown",
   "metadata": {},
   "source": [
    "#####  <span style=\"font-family: Arial; font-weight:bold;font-size:1.15em;color:#a435c3\">Creating Similarity matrix between a list of key words and all the documents\n",
    "<font color=darkblue>"
   ]
  },
  {
   "cell_type": "code",
   "execution_count": 23,
   "metadata": {},
   "outputs": [],
   "source": [
    "#Create similarity matrix between doc and tokens\n",
    "tokens = \"love\".split()\n",
    "index = similarities.MatrixSimilarity([dct.doc2bow(tokens)],num_features=len(dct))"
   ]
  },
  {
   "cell_type": "code",
   "execution_count": 24,
   "metadata": {},
   "outputs": [
    {
     "name": "stdout",
     "output_type": "stream",
     "text": [
      "Out of Love encapsulates the sweltering and devastating dynamics of love in the turbulent relationship between Varya and Nikolai, where genuine love and hope contend with destruction and despair.\n",
      "(9959, 0.8707342743873596)\n",
      "Out of Love\n"
     ]
    }
   ],
   "source": [
    "similarity=np.zeros((len(alldocs)))\n",
    "maxsim = 0\n",
    "for id, doc in enumerate(alldocs):\n",
    "    similarity[id] = index[dct.doc2bow(doc.words)]\n",
    "    \n",
    "docsim= alldocs[np.argmax(similarity)] \n",
    "print(data[docsim.original_number])\n",
    "print(tagsim)\n",
    "print(docsim.title)\n"
   ]
  },
  {
   "cell_type": "code",
   "execution_count": null,
   "metadata": {},
   "outputs": [],
   "source": []
  }
 ],
 "metadata": {
  "kernelspec": {
   "display_name": "Python 3",
   "language": "python",
   "name": "python3"
  },
  "language_info": {
   "codemirror_mode": {
    "name": "ipython",
    "version": 3
   },
   "file_extension": ".py",
   "mimetype": "text/x-python",
   "name": "python",
   "nbconvert_exporter": "python",
   "pygments_lexer": "ipython3",
   "version": "3.8.3"
  }
 },
 "nbformat": 4,
 "nbformat_minor": 4
}
