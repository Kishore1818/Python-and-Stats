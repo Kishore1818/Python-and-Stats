{
 "cells": [
  {
   "cell_type": "markdown",
   "metadata": {},
   "source": [
    "######  <span style=\"font-family: Arial; font-weight:bold;font-size:1.5em;color:#35c359\">LDA Project\n",
    "<font color=darkblue>\n",
    "    \n",
    "######  <span style=\"font-family: Arial; font-weight:bold;font-size:1.em;color:#d40eea\">Import Libraries\n",
    "<font color=darkblue>"
   ]
  },
  {
   "cell_type": "code",
   "execution_count": 1,
   "metadata": {},
   "outputs": [],
   "source": [
    "import numpy as np\n",
    "import pandas as pd\n",
    "import glob\n",
    "import matplotlib.pyplot as plt\n",
    "import seaborn as sns\n",
    "import warnings \n",
    "warnings.filterwarnings('ignore')"
   ]
  },
  {
   "cell_type": "markdown",
   "metadata": {},
   "source": [
    "######  <span style=\"font-family: Arial; font-weight:bold;font-size:1.em;color:#120eea\">Load and display Dataset"
   ]
  },
  {
   "cell_type": "code",
   "execution_count": 2,
   "metadata": {},
   "outputs": [
    {
     "data": {
      "text/html": [
       "<div>\n",
       "<style scoped>\n",
       "    .dataframe tbody tr th:only-of-type {\n",
       "        vertical-align: middle;\n",
       "    }\n",
       "\n",
       "    .dataframe tbody tr th {\n",
       "        vertical-align: top;\n",
       "    }\n",
       "\n",
       "    .dataframe thead th {\n",
       "        text-align: right;\n",
       "    }\n",
       "</style>\n",
       "<table border=\"1\" class=\"dataframe\">\n",
       "  <thead>\n",
       "    <tr style=\"text-align: right;\">\n",
       "      <th></th>\n",
       "      <th>Description</th>\n",
       "      <th>label</th>\n",
       "    </tr>\n",
       "  </thead>\n",
       "  <tbody>\n",
       "    <tr>\n",
       "      <th>0</th>\n",
       "      <td>This is how I pictured Rachel Lind's house in ...</td>\n",
       "      <td>gardening</td>\n",
       "    </tr>\n",
       "    <tr>\n",
       "      <th>1</th>\n",
       "      <td>Came here to say exactly this!</td>\n",
       "      <td>gardening</td>\n",
       "    </tr>\n",
       "    <tr>\n",
       "      <th>2</th>\n",
       "      <td>Rachel Lind's house? Really??</td>\n",
       "      <td>gardening</td>\n",
       "    </tr>\n",
       "    <tr>\n",
       "      <th>3</th>\n",
       "      <td>Of course, she would have nothing but the best...</td>\n",
       "      <td>gardening</td>\n",
       "    </tr>\n",
       "    <tr>\n",
       "      <th>4</th>\n",
       "      <td>Let's be kindred spirits, please.</td>\n",
       "      <td>gardening</td>\n",
       "    </tr>\n",
       "  </tbody>\n",
       "</table>\n",
       "</div>"
      ],
      "text/plain": [
       "                                         Description      label\n",
       "0  This is how I pictured Rachel Lind's house in ...  gardening\n",
       "1                    Came here to say exactly this!   gardening\n",
       "2                     Rachel Lind's house? Really??   gardening\n",
       "3  Of course, she would have nothing but the best...  gardening\n",
       "4                 Let's be kindred spirits, please.   gardening"
      ]
     },
     "execution_count": 2,
     "metadata": {},
     "output_type": "execute_result"
    }
   ],
   "source": [
    "dataset = pd.read_csv('/Users/preethamvignesh/Desktop/Work/ML_EIT/Data/sport_garden.csv')\n",
    "dataset.head()"
   ]
  },
  {
   "cell_type": "markdown",
   "metadata": {},
   "source": [
    "######  <span style=\"font-family: Arial; font-weight:bold;font-size:1.em;color:#120eea\">Initial Data cleaning"
   ]
  },
  {
   "cell_type": "code",
   "execution_count": 3,
   "metadata": {},
   "outputs": [],
   "source": [
    "# drop columns that aren't going to be used\n",
    "cleaned_dataset = dataset.drop(['label'], axis=1)\n",
    "# remove useless text parts\n",
    "cleaned_dataset['Description'] = cleaned_dataset['Description'].replace(to_replace='xx/xx/\\d{4}|XX/XX/\\d{4}|\\d\\d/\\d\\d/\\d{4}|xx/xx/\\d{2}|XX/XX/\\d{2}|\\d\\d/\\d\\d/\\d{2}|xx+|XX+|{|}|\\$\\d+(\\.\\d+)?', value='', regex=True)\n",
    "# replace consecutive spaces by only one space\n",
    "cleaned_dataset['Description'] = cleaned_dataset['Description'].replace(to_replace='\\s\\s+', value=' ', regex=True)"
   ]
  },
  {
   "cell_type": "code",
   "execution_count": 4,
   "metadata": {},
   "outputs": [],
   "source": [
    "cols = ['Description']\n",
    "ids = []\n",
    "label_to_id = []\n",
    "id_to_label = []\n",
    "\n",
    "count = 0\n",
    "for c in cols:\n",
    "    one_hot_encoding = pd.get_dummies(cleaned_dataset[c], prefix = c)\n",
    "    cleaned_dataset = pd.concat([cleaned_dataset, one_hot_encoding], axis = 1)\n",
    "    \n",
    "    cleaned_dataset[c + ' id'] = cleaned_dataset[c].factorize()[0]\n",
    "    ids.append(cleaned_dataset[[c, c + ' id']].drop_duplicates().sort_values(c + ' id'))\n",
    "    label_to_id.append(dict(ids[count].values))\n",
    "    id_to_label.append(dict(ids[count][[c + ' id', c]].values))\n",
    "    count += 1"
   ]
  },
  {
   "cell_type": "code",
   "execution_count": 5,
   "metadata": {},
   "outputs": [
    {
     "name": "stderr",
     "output_type": "stream",
     "text": [
      "[nltk_data] Downloading package stopwords to\n",
      "[nltk_data]     /Users/preethamvignesh/nltk_data...\n",
      "[nltk_data]   Package stopwords is already up-to-date!\n",
      "[nltk_data] Downloading package punkt to\n",
      "[nltk_data]     /Users/preethamvignesh/nltk_data...\n",
      "[nltk_data]   Package punkt is already up-to-date!\n",
      "[nltk_data] Downloading package wordnet to\n",
      "[nltk_data]     /Users/preethamvignesh/nltk_data...\n",
      "[nltk_data]   Package wordnet is already up-to-date!\n"
     ]
    },
    {
     "data": {
      "text/plain": [
       "True"
      ]
     },
     "execution_count": 5,
     "metadata": {},
     "output_type": "execute_result"
    }
   ],
   "source": [
    "import nltk\n",
    "nltk.download('stopwords')\n",
    "nltk.download('punkt')\n",
    "nltk.download('wordnet')"
   ]
  },
  {
   "cell_type": "markdown",
   "metadata": {},
   "source": [
    "######  <span style=\"font-family: Arial; font-weight:bold;font-size:1.em;color:#7c0eea\">Data cleaning by removing symbols, short words, stopwords and by stemming words to their dictionary form by using a lemmatizer."
   ]
  },
  {
   "cell_type": "code",
   "execution_count": 6,
   "metadata": {},
   "outputs": [],
   "source": [
    "import re\n",
    "from nltk.corpus import stopwords\n",
    "from nltk.tokenize import word_tokenize\n",
    "from nltk.stem import WordNetLemmatizer\n",
    "stop_words = set(stopwords.words('english'))\n",
    "lemma = WordNetLemmatizer()\n",
    "\n",
    "def clean_col(col):\n",
    "    cleaned_col = []\n",
    "    for r in range(0,len(col)):\n",
    "        row = str(col[r])\n",
    "        row = row.lower()\n",
    "        row = re.sub('[^a-zA-Z]',' ', row)\n",
    "        row = re.sub(r'\\b\\w{1}\\b', '', row)\n",
    "\n",
    "        word_tokens = word_tokenize(row)\n",
    "        \n",
    "        row = [w for w in word_tokens if w not in stop_words]\n",
    "        row = ' '.join(row)\n",
    "        row = [lemma.lemmatize(w) for w in word_tokenize(str(row).lower())]\n",
    "        row = ' '.join(row)\n",
    "        cleaned_col.append(row)\n",
    "    return cleaned_col"
   ]
  },
  {
   "cell_type": "code",
   "execution_count": 7,
   "metadata": {},
   "outputs": [
    {
     "name": "stdout",
     "output_type": "stream",
     "text": [
      "CPU times: user 4.43 s, sys: 77.8 ms, total: 4.51 s\n",
      "Wall time: 4.53 s\n"
     ]
    }
   ],
   "source": [
    "%%time\n",
    "\n",
    "cleaned_dataset['Description'] = clean_col(cleaned_dataset['Description'])"
   ]
  },
  {
   "cell_type": "code",
   "execution_count": 8,
   "metadata": {},
   "outputs": [
    {
     "data": {
      "text/plain": [
       "0                                pictured rachel lind house anne green gable\n",
       "1                                                           came say exactly\n",
       "2                                                   rachel lind house really\n",
       "3    course would nothing best kept garden imagined style similar anne house\n",
       "4                                                  let kindred spirit please\n",
       "Name: Description, dtype: object"
      ]
     },
     "execution_count": 8,
     "metadata": {},
     "output_type": "execute_result"
    }
   ],
   "source": [
    "show_n_rows = 5\n",
    "\n",
    "pd.set_option('display.max_colwidth', None)\n",
    "pd.options.display.max_rows = show_n_rows\n",
    "\n",
    "cleaned_dataset['Description'].head(show_n_rows)"
   ]
  },
  {
   "cell_type": "markdown",
   "metadata": {},
   "source": [
    "######  <span style=\"font-family: Arial; font-weight:bold;font-size:1.em;color:#be0eea\">Train a Doc2Vec model."
   ]
  },
  {
   "cell_type": "code",
   "execution_count": 9,
   "metadata": {},
   "outputs": [
    {
     "name": "stdout",
     "output_type": "stream",
     "text": [
      "Model Saved (doc2vec_model)\n"
     ]
    }
   ],
   "source": [
    "from gensim.models.doc2vec import Doc2Vec, TaggedDocument\n",
    "from nltk.tokenize import word_tokenize\n",
    "\n",
    "X = cleaned_dataset['Description']\n",
    "Y = [[i] for i in range(len(X))]\n",
    "tagged_data  = [TaggedDocument(X[i], Y[i]) for i in range(len(X))]\n",
    "\n",
    "\n",
    "model = Doc2Vec(\n",
    "    vector_size=50, \n",
    "    alpha=0.025, \n",
    "    min_alpha=0.00025, \n",
    "    min_count=2, \n",
    "    sample=0.00001, \n",
    "#     window=25, \n",
    "#     negative=5, \n",
    "    dm=1\n",
    ")\n",
    "\n",
    "model.build_vocab(tagged_data)\n",
    "model.train(tagged_data, total_examples=model.corpus_count, epochs=model.epochs)\n",
    "\n",
    "\n",
    "filename = \"doc2vec_model\"\n",
    "model.save(filename)\n",
    "print(\"Model Saved (\" + filename + \")\")"
   ]
  },
  {
   "cell_type": "markdown",
   "metadata": {},
   "source": [
    "######  <span style=\"font-family: Arial; font-weight:bold;font-size:1.em;color:#ea0eac\">Vectorize the whole dataset with the trained model"
   ]
  },
  {
   "cell_type": "code",
   "execution_count": 10,
   "metadata": {},
   "outputs": [],
   "source": [
    "from gensim.models.doc2vec import Doc2Vec\n",
    "\n",
    "fname = \"doc2vec_model\"\n",
    "model = Doc2Vec.load(fname)\n",
    "X = cleaned_dataset['Description']\n",
    "\n",
    "vectorized_complaints = []\n",
    "for x in X[:]:\n",
    "    vectorized_complaints.append(model.infer_vector(list(x)))"
   ]
  },
  {
   "cell_type": "markdown",
   "metadata": {},
   "source": [
    "######  <span style=\"font-family: Arial; font-weight:bold;font-size:1.em;color:#ea0e62\">Perform PCA on the vectorized dataset for outlier detection"
   ]
  },
  {
   "cell_type": "code",
   "execution_count": 11,
   "metadata": {},
   "outputs": [],
   "source": [
    "from sklearn.decomposition import PCA\n",
    "\n",
    "pca = PCA(n_components=2).fit(vectorized_complaints)\n",
    "pca_vectorized_complaints = pca.transform(vectorized_complaints)"
   ]
  },
  {
   "cell_type": "markdown",
   "metadata": {},
   "source": [
    "######  <span style=\"font-family: Arial; font-weight:bold;font-size:1.em;color:#0eeac9\">Perform SVD on the vectorized dataset for outlier detection"
   ]
  },
  {
   "cell_type": "code",
   "execution_count": 12,
   "metadata": {},
   "outputs": [],
   "source": [
    "from sklearn.decomposition import TruncatedSVD\n",
    "\n",
    "svd = TruncatedSVD(n_components=2)\n",
    "svd_vectorized_complaints = svd.fit_transform(vectorized_complaints)"
   ]
  },
  {
   "cell_type": "markdown",
   "metadata": {},
   "source": [
    "######  <span style=\"font-family: Arial; font-weight:bold;font-size:1.em;color:#0eea9d\">Function to detect outliers with 4 different algorithms."
   ]
  },
  {
   "cell_type": "code",
   "execution_count": 13,
   "metadata": {},
   "outputs": [],
   "source": [
    "import time\n",
    "\n",
    "import matplotlib\n",
    "import matplotlib.pyplot as plt\n",
    "matplotlib.rcParams['contour.negative_linestyle'] = 'solid'\n",
    "\n",
    "from sklearn import svm\n",
    "from sklearn.covariance import EllipticEnvelope\n",
    "from sklearn.ensemble import IsolationForest\n",
    "from sklearn.neighbors import LocalOutlierFactor\n",
    "\n",
    "def compute_and_plot_outliers(data, outliers_fraction=0.01):\n",
    "    anomaly_algorithms = [\n",
    "        (\"Robust covariance\", EllipticEnvelope(contamination=outliers_fraction)),\n",
    "        (\"One-Class SVM\", svm.OneClassSVM(nu=outliers_fraction, kernel=\"rbf\", gamma=0.1)),\n",
    "        (\"Isolation Forest\", IsolationForest(contamination=outliers_fraction)),\n",
    "        (\"Local Outlier Factor\", LocalOutlierFactor(n_neighbors=35, contamination=outliers_fraction))\n",
    "    ]\n",
    "\n",
    "    xx, yy = np.meshgrid(np.linspace(-1, 1, 150), np.linspace(-1, 1, 150))\n",
    "\n",
    "    y_preds = []\n",
    "    \n",
    "    for name, algorithm in anomaly_algorithms:\n",
    "        t0 = time.time()\n",
    "\n",
    "        algorithm.fit(data)\n",
    "\n",
    "        plt.figure(figsize=(10, 10))\n",
    "        plt.title(\"Outlier detection with \" + name, size=18)\n",
    "\n",
    "        if name == \"Local Outlier Factor\":\n",
    "            y_pred = algorithm.fit_predict(data)\n",
    "        else:\n",
    "            y_pred = algorithm.fit(data).predict(data)\n",
    "        \n",
    "        y_preds.append(y_pred)\n",
    "\n",
    "        if name != \"Local Outlier Factor\":\n",
    "            Z = algorithm.predict(np.c_[xx.ravel(), yy.ravel()])\n",
    "            Z = Z.reshape(xx.shape)\n",
    "            plt.contour(xx, yy, Z, levels=[0], linewidths=2, colors='black')\n",
    "\n",
    "        t1 = time.time()\n",
    "\n",
    "        colors = np.array(['#377eb8', '#ff7f00'])\n",
    "        plt.scatter(data[:, 0], data[:, 1], s=10, color=colors[(y_pred + 1) // 2])\n",
    "\n",
    "        plt.xlim(-1, 1)\n",
    "        plt.ylim(-1, 1)\n",
    "        plt.xticks(())\n",
    "        plt.yticks(())\n",
    "        plt.text(.99, .01, ('%.2fs' % (t1 - t0)).lstrip('0'), transform=plt.gca().transAxes, size=15, horizontalalignment='right')\n",
    "        \n",
    "        plt.show()\n",
    "    \n",
    "    return y_preds"
   ]
  },
  {
   "cell_type": "markdown",
   "metadata": {},
   "source": [
    "######  <span style=\"font-family: Arial; font-weight:bold;font-size:1.em;color:#0eea57\">Detect outliers both by using PCA and SVD"
   ]
  },
  {
   "cell_type": "code",
   "execution_count": 14,
   "metadata": {},
   "outputs": [
    {
     "data": {
      "image/png": "[encoded data removed]",
      "text/plain": [
       "<Figure size 720x720 with 1 Axes>"
      ]
     },
     "metadata": {},
     "output_type": "display_data"
    },
    {
     "data": {
      "image/png": "[encoded data removed]",
      "text/plain": [
       "<Figure size 720x720 with 1 Axes>"
      ]
     },
     "metadata": {},
     "output_type": "display_data"
    },
    {
     "data": {
      "image/png": "[encoded data removed]",
      "text/plain": [
       "<Figure size 720x720 with 1 Axes>"
      ]
     },
     "metadata": {},
     "output_type": "display_data"
    },
    {
     "data": {
      "image/png": "[encoded data removed]",
      "text/plain": [
       "<Figure size 720x720 with 1 Axes>"
      ]
     },
     "metadata": {},
     "output_type": "display_data"
    }
   ],
   "source": [
    "pca_y_preds = compute_and_plot_outliers(pca_vectorized_complaints)"
   ]
  },
  {
   "cell_type": "markdown",
   "metadata": {},
   "source": [
    "######  <span style=\"font-family: Arial; font-weight:bold;font-size:1.em;color:#0eea57\">Get all complaint ids that are labelled as outliers."
   ]
  },
  {
   "cell_type": "code",
   "execution_count": 15,
   "metadata": {},
   "outputs": [],
   "source": [
    "def get_outlier_ids(y_pred):\n",
    "    outlier_ids = []\n",
    "\n",
    "    for id in range(0, len(y_pred)):\n",
    "        if y_pred[id] == -1:\n",
    "            outlier_ids.append(id)\n",
    "    \n",
    "    return outlier_ids"
   ]
  },
  {
   "cell_type": "markdown",
   "metadata": {},
   "source": [
    "######  <span style=\"font-family: Arial; font-weight:bold;font-size:1.em;color:#0eea57\">Get all outliers per algorithm (PCA)"
   ]
  },
  {
   "cell_type": "code",
   "execution_count": 16,
   "metadata": {},
   "outputs": [
    {
     "name": "stdout",
     "output_type": "stream",
     "text": [
      "#outliers: 84\n",
      "#outliers: 84\n",
      "#outliers: 84\n",
      "#outliers: 84\n"
     ]
    }
   ],
   "source": [
    "pca_outlier_ids = []\n",
    "for o in range(0, len(pca_y_preds)):\n",
    "    outliers = get_outlier_ids(pca_y_preds[o])\n",
    "    pca_outlier_ids.append(outliers)\n",
    "    \n",
    "    print('#outliers:', len(outliers))"
   ]
  },
  {
   "cell_type": "code",
   "execution_count": 17,
   "metadata": {},
   "outputs": [
    {
     "name": "stdout",
     "output_type": "stream",
     "text": [
      "# of complaints in cleaned_dataset: 8360\n"
     ]
    }
   ],
   "source": [
    "print('# of complaints in cleaned_dataset:', cleaned_dataset.shape[0])"
   ]
  },
  {
   "cell_type": "code",
   "execution_count": 18,
   "metadata": {},
   "outputs": [
    {
     "name": "stdout",
     "output_type": "stream",
     "text": [
      "# of complaints in cleaned_dataset_excluding_outliers: 8276\n"
     ]
    }
   ],
   "source": [
    "dataset_excluding_outliers = dataset.drop(dataset.index[pca_outlier_ids[0]])\n",
    "print('# of complaints in cleaned_dataset_excluding_outliers:', dataset_excluding_outliers.shape[0])"
   ]
  },
  {
   "cell_type": "markdown",
   "metadata": {},
   "source": [
    "######  <span style=\"font-family: Arial; font-weight:bold;font-size:1.em;color:#dbea0e\">Use pickle to save the dataset without outliers to a file"
   ]
  },
  {
   "cell_type": "code",
   "execution_count": 19,
   "metadata": {},
   "outputs": [],
   "source": [
    "filename = 'dataset_excluding_outliers.csv'\n",
    "dataset_excluding_outliers.to_csv(filename, index=False)"
   ]
  },
  {
   "cell_type": "code",
   "execution_count": 20,
   "metadata": {},
   "outputs": [],
   "source": [
    "import pandas as pd\n",
    "\n",
    "filename = 'dataset_excluding_outliers.csv'\n",
    "dataset_excluding_outliers = pd.read_csv(filename) "
   ]
  },
  {
   "cell_type": "code",
   "execution_count": 21,
   "metadata": {},
   "outputs": [
    {
     "name": "stdout",
     "output_type": "stream",
     "text": [
      "# of complaints in vectorized_complaints: 8360\n"
     ]
    }
   ],
   "source": [
    "print('# of complaints in vectorized_complaints:', len(vectorized_complaints))"
   ]
  },
  {
   "cell_type": "code",
   "execution_count": 22,
   "metadata": {},
   "outputs": [
    {
     "name": "stdout",
     "output_type": "stream",
     "text": [
      "# of complaints in vectorized_complaints_cleaned: 8276\n"
     ]
    }
   ],
   "source": [
    "vectorized_complaints_cleaned = []\n",
    "\n",
    "for index in range(0, len(vectorized_complaints)):\n",
    "    if index not in pca_outlier_ids[0]:\n",
    "        vectorized_complaints_cleaned.append(vectorized_complaints[index])\n",
    "\n",
    "print('# of complaints in vectorized_complaints_cleaned:', len(vectorized_complaints_cleaned))"
   ]
  },
  {
   "cell_type": "markdown",
   "metadata": {},
   "source": [
    "**Use pickle to save the cleaned vectorized complaints to a file.**"
   ]
  },
  {
   "cell_type": "code",
   "execution_count": 23,
   "metadata": {},
   "outputs": [],
   "source": [
    "import pickle\n",
    "\n",
    "filename = 'vectorized_complaints_cleaned.pkl'\n",
    "data = vectorized_complaints_cleaned\n",
    "output = open(filename, 'wb')\n",
    "pickle.dump(data, output)\n",
    "output.close()"
   ]
  },
  {
   "cell_type": "code",
   "execution_count": 24,
   "metadata": {},
   "outputs": [],
   "source": [
    "import pickle\n",
    "\n",
    "filename = 'vectorized_complaints_cleaned.pkl'\n",
    "pkl_file = open(filename, 'rb')\n",
    "data = pickle.load(pkl_file)\n",
    "pkl_file.close()"
   ]
  },
  {
   "cell_type": "markdown",
   "metadata": {},
   "source": [
    "######  <span style=\"font-family: Arial; font-weight:bold;font-size:1.em;color:#eab70e\">Clustering"
   ]
  },
  {
   "cell_type": "code",
   "execution_count": 25,
   "metadata": {},
   "outputs": [],
   "source": [
    "import pandas as pd\n",
    "\n",
    "filename = 'dataset_excluding_outliers.csv'\n",
    "cleaned_dataset_excluding_outliers = pd.read_csv(filename) "
   ]
  },
  {
   "cell_type": "code",
   "execution_count": 26,
   "metadata": {},
   "outputs": [],
   "source": [
    "import re\n",
    "\n",
    "# drop columns that aren't going to be used\n",
    "cleaned_dataset_excluding_outliers = cleaned_dataset_excluding_outliers.drop(['label'], axis=1)\n",
    "# remove useless text parts\n",
    "cleaned_dataset_excluding_outliers['Description'] = cleaned_dataset_excluding_outliers['Description'].replace(to_replace='xx/xx/\\d{4}|XX/XX/\\d{4}|\\d\\d/\\d\\d/\\d{4}|xx/xx/\\d{2}|XX/XX/\\d{2}|\\d\\d/\\d\\d/\\d{2}|xx+|XX+|{|}|\\$\\d+(\\.\\d+)?', value='', regex=True)\n",
    "# replace consecutive spaces by only one space\n",
    "cleaned_dataset_excluding_outliers['Description'] = cleaned_dataset_excluding_outliers['Description'].replace(to_replace='\\s\\s+', value=' ', regex=True)"
   ]
  },
  {
   "cell_type": "code",
   "execution_count": 27,
   "metadata": {},
   "outputs": [
    {
     "name": "stdout",
     "output_type": "stream",
     "text": [
      "CPU times: user 2.95 s, sys: 9.5 ms, total: 2.96 s\n",
      "Wall time: 2.97 s\n"
     ]
    }
   ],
   "source": [
    "%%time\n",
    "\n",
    "cleaned_dataset_excluding_outliers['Description'] = clean_col(cleaned_dataset_excluding_outliers['Description'])"
   ]
  },
  {
   "cell_type": "code",
   "execution_count": 28,
   "metadata": {},
   "outputs": [],
   "source": [
    "doc_sample = cleaned_dataset_excluding_outliers['Description']\n",
    "processed_docs = doc_sample.tolist()\n",
    "\n",
    "extra_stopwords = [\n",
    "    'told', 'still', 'one', 'said', 'asked', 'sent', 'call', 'amount', 'received', 'would', \n",
    "    'could', 'day', 'since', 'never', 'also', 'time', 'back', 'year', 'get', 'even', \n",
    "    'paid', 'month', 'pay', 'money', 'bank', 'however', 'made', 'due', 'email', 'stated', \n",
    "    'name', 'date', 'want', 'need', 'first', 'know'\n",
    "]\n",
    "\n",
    "processed_docs = map(lambda x: x.split(), processed_docs)\n",
    "processed_docs = map(lambda x: list(filter(lambda y: y not in extra_stopwords, x)) , processed_docs)"
   ]
  },
  {
   "cell_type": "code",
   "execution_count": 29,
   "metadata": {},
   "outputs": [],
   "source": [
    "processed_docs = list(processed_docs)"
   ]
  },
  {
   "cell_type": "markdown",
   "metadata": {},
   "source": [
    "######  <span style=\"font-family: Arial; font-weight:bold;font-size:1.em;color:#eab70e\">The next step is to compute frequent bigrams from the documents"
   ]
  },
  {
   "cell_type": "code",
   "execution_count": 30,
   "metadata": {},
   "outputs": [],
   "source": [
    "import gensim\n",
    "\n",
    "bigram = gensim.models.Phrases(processed_docs, min_count=5, threshold=100)\n",
    "bigram_mod = gensim.models.phrases.Phraser(bigram)"
   ]
  },
  {
   "cell_type": "code",
   "execution_count": 31,
   "metadata": {},
   "outputs": [],
   "source": [
    "def make_bigrams(texts):\n",
    "    return [bigram_mod[doc] for doc in texts]"
   ]
  },
  {
   "cell_type": "code",
   "execution_count": 32,
   "metadata": {},
   "outputs": [],
   "source": [
    "processed_docs_bigrams = make_bigrams(processed_docs)"
   ]
  },
  {
   "cell_type": "code",
   "execution_count": 33,
   "metadata": {},
   "outputs": [],
   "source": [
    "import gensim\n",
    "\n",
    "dictionary = gensim.corpora.Dictionary(processed_docs_bigrams)\n",
    "dictionary.filter_extremes(no_below=100, no_above=0.4, keep_n=10000)\n",
    "bow_corpus = [dictionary.doc2bow(doc) for doc in processed_docs_bigrams]"
   ]
  },
  {
   "cell_type": "code",
   "execution_count": 34,
   "metadata": {},
   "outputs": [
    {
     "name": "stdout",
     "output_type": "stream",
     "text": [
      "103\n"
     ]
    }
   ],
   "source": [
    "print(len(dictionary))"
   ]
  },
  {
   "cell_type": "code",
   "execution_count": 35,
   "metadata": {},
   "outputs": [],
   "source": [
    "from gensim.models import CoherenceModel\n",
    "\n",
    "def compute_coherence_values(corpus, dictionary, k, a, b):\n",
    "    lda_model = gensim.models.LdaMulticore(corpus=corpus,\n",
    "                                           id2word=dictionary,\n",
    "                                           num_topics=k, \n",
    "                                           random_state=100,\n",
    "                                           chunksize=1000,\n",
    "                                           passes=2,\n",
    "                                           alpha=a,\n",
    "                                           eta=b,\n",
    "                                           per_word_topics=True)\n",
    "    \n",
    "    coherence_model_lda = CoherenceModel(model=lda_model, texts=processed_docs, dictionary=dictionary, coherence='c_v')\n",
    "    \n",
    "    return coherence_model_lda.get_coherence()"
   ]
  },
  {
   "cell_type": "code",
   "execution_count": null,
   "metadata": {},
   "outputs": [],
   "source": [
    "https://github.com/bijoyandas/Hands-On-Natural-Language-Processing-with-Python\n",
    "https://github.com/kavgan/nlp-in-practice\n",
    "    "
   ]
  },
  {
   "cell_type": "code",
   "execution_count": null,
   "metadata": {},
   "outputs": [],
   "source": [
    "https://github.com/EdjeElectronics/TensorFlow-Object-Detection-API-Tutorial-Train-Multiple-Objects-Windows-10"
   ]
  }
 ],
 "metadata": {
  "kernelspec": {
   "display_name": "Python 3",
   "language": "python",
   "name": "python3"
  },
  "language_info": {
   "codemirror_mode": {
    "name": "ipython",
    "version": 3
   },
   "file_extension": ".py",
   "mimetype": "text/x-python",
   "name": "python",
   "nbconvert_exporter": "python",
   "pygments_lexer": "ipython3",
   "version": "3.8.3"
  }
 },
 "nbformat": 4,
 "nbformat_minor": 4
}
