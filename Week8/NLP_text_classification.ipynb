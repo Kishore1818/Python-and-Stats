{
 "cells": [
  {
   "cell_type": "markdown",
   "metadata": {},
   "source": [
    "######  <span style=\"font-family: Arial; font-weight:bold;font-size:1.5em;color:#35c359\">NLP: Text classification\n",
    "<font color=darkblue>\n",
    "    \n",
    "######  <span style=\"font-family: Arial; font-weight:bold;font-size:1.em;color:#d40eea\">Import Libraries\n",
    "<font color=darkblue>"
   ]
  },
  {
   "cell_type": "code",
   "execution_count": 1,
   "metadata": {},
   "outputs": [],
   "source": [
    "import numpy as np\n",
    "import pandas as pd\n",
    "import glob\n",
    "import matplotlib.pyplot as plt\n",
    "import seaborn as sns\n",
    "\n",
    "\n",
    "import warnings \n",
    "warnings.filterwarnings('ignore')"
   ]
  },
  {
   "cell_type": "markdown",
   "metadata": {},
   "source": [
    "######  <span style=\"font-family: Arial; font-weight:bold;font-size:1.em;color:#120eea\">Load and display Dataset"
   ]
  },
  {
   "cell_type": "code",
   "execution_count": 2,
   "metadata": {},
   "outputs": [
    {
     "data": {
      "text/html": [
       "<div>\n",
       "<style scoped>\n",
       "    .dataframe tbody tr th:only-of-type {\n",
       "        vertical-align: middle;\n",
       "    }\n",
       "\n",
       "    .dataframe tbody tr th {\n",
       "        vertical-align: top;\n",
       "    }\n",
       "\n",
       "    .dataframe thead th {\n",
       "        text-align: right;\n",
       "    }\n",
       "</style>\n",
       "<table border=\"1\" class=\"dataframe\">\n",
       "  <thead>\n",
       "    <tr style=\"text-align: right;\">\n",
       "      <th></th>\n",
       "      <th>short_description</th>\n",
       "      <th>headline</th>\n",
       "      <th>date</th>\n",
       "      <th>link</th>\n",
       "      <th>authors</th>\n",
       "      <th>category</th>\n",
       "    </tr>\n",
       "  </thead>\n",
       "  <tbody>\n",
       "    <tr>\n",
       "      <th>0</th>\n",
       "      <td>She left her husband. He killed their children...</td>\n",
       "      <td>There Were 2 Mass Shootings In Texas Last Week...</td>\n",
       "      <td>2018-05-26</td>\n",
       "      <td>https://www.huffingtonpost.com/entry/texas-ama...</td>\n",
       "      <td>Melissa Jeltsen</td>\n",
       "      <td>CRIME</td>\n",
       "    </tr>\n",
       "    <tr>\n",
       "      <th>1</th>\n",
       "      <td>Of course it has a song.</td>\n",
       "      <td>Will Smith Joins Diplo And Nicky Jam For The 2...</td>\n",
       "      <td>2018-05-26</td>\n",
       "      <td>https://www.huffingtonpost.com/entry/will-smit...</td>\n",
       "      <td>Andy McDonald</td>\n",
       "      <td>ENTERTAINMENT</td>\n",
       "    </tr>\n",
       "    <tr>\n",
       "      <th>2</th>\n",
       "      <td>The actor and his longtime girlfriend Anna Ebe...</td>\n",
       "      <td>Hugh Grant Marries For The First Time At Age 57</td>\n",
       "      <td>2018-05-26</td>\n",
       "      <td>https://www.huffingtonpost.com/entry/hugh-gran...</td>\n",
       "      <td>Ron Dicker</td>\n",
       "      <td>ENTERTAINMENT</td>\n",
       "    </tr>\n",
       "    <tr>\n",
       "      <th>3</th>\n",
       "      <td>The actor gives Dems an ass-kicking for not fi...</td>\n",
       "      <td>Jim Carrey Blasts 'Castrato' Adam Schiff And D...</td>\n",
       "      <td>2018-05-26</td>\n",
       "      <td>https://www.huffingtonpost.com/entry/jim-carre...</td>\n",
       "      <td>Ron Dicker</td>\n",
       "      <td>ENTERTAINMENT</td>\n",
       "    </tr>\n",
       "    <tr>\n",
       "      <th>4</th>\n",
       "      <td>The \"Dietland\" actress said using the bags is ...</td>\n",
       "      <td>Julianna Margulies Uses Donald Trump Poop Bags...</td>\n",
       "      <td>2018-05-26</td>\n",
       "      <td>https://www.huffingtonpost.com/entry/julianna-...</td>\n",
       "      <td>Ron Dicker</td>\n",
       "      <td>ENTERTAINMENT</td>\n",
       "    </tr>\n",
       "    <tr>\n",
       "      <th>...</th>\n",
       "      <td>...</td>\n",
       "      <td>...</td>\n",
       "      <td>...</td>\n",
       "      <td>...</td>\n",
       "      <td>...</td>\n",
       "      <td>...</td>\n",
       "    </tr>\n",
       "    <tr>\n",
       "      <th>124984</th>\n",
       "      <td></td>\n",
       "      <td>Why I Thought I'd Never Live To See 33</td>\n",
       "      <td>2014-04-18</td>\n",
       "      <td>https://www.huffingtonpost.com/entry/a-black-g...</td>\n",
       "      <td></td>\n",
       "      <td>WOMEN</td>\n",
       "    </tr>\n",
       "    <tr>\n",
       "      <th>124985</th>\n",
       "      <td>I often hear people describe cooking for one a...</td>\n",
       "      <td>Five Tips For Cooking For One</td>\n",
       "      <td>2014-04-18</td>\n",
       "      <td>https://www.huffingtonpost.com/entry/five-tips...</td>\n",
       "      <td>Food Riot, ContributorPlay with your food.</td>\n",
       "      <td>TASTE</td>\n",
       "    </tr>\n",
       "    <tr>\n",
       "      <th>124986</th>\n",
       "      <td></td>\n",
       "      <td>Police Want your Home Video Surveillance Footage</td>\n",
       "      <td>2014-04-18</td>\n",
       "      <td>https://www.huffingtonpost.com/entry/police-wa...</td>\n",
       "      <td>Robert Siciliano, ContributorPersonal Security...</td>\n",
       "      <td>CRIME</td>\n",
       "    </tr>\n",
       "    <tr>\n",
       "      <th>124987</th>\n",
       "      <td></td>\n",
       "      <td>Ouch, Natalie Morales</td>\n",
       "      <td>2014-04-18</td>\n",
       "      <td>https://www.huffingtonpost.com/entry/natalie-m...</td>\n",
       "      <td>Katherine Fung</td>\n",
       "      <td>MEDIA</td>\n",
       "    </tr>\n",
       "    <tr>\n",
       "      <th>124988</th>\n",
       "      <td>Our thoughts and feelings are powerful, but ma...</td>\n",
       "      <td>Reasons Not to Be Happy</td>\n",
       "      <td>2014-04-18</td>\n",
       "      <td>https://www.huffingtonpost.com/entry/happiness...</td>\n",
       "      <td>Mindy Utay, Contributor\"Calming Life's Conflicts\"</td>\n",
       "      <td>HEALTHY LIVING</td>\n",
       "    </tr>\n",
       "  </tbody>\n",
       "</table>\n",
       "<p>124989 rows × 6 columns</p>\n",
       "</div>"
      ],
      "text/plain": [
       "                                        short_description  \\\n",
       "0       She left her husband. He killed their children...   \n",
       "1                                Of course it has a song.   \n",
       "2       The actor and his longtime girlfriend Anna Ebe...   \n",
       "3       The actor gives Dems an ass-kicking for not fi...   \n",
       "4       The \"Dietland\" actress said using the bags is ...   \n",
       "...                                                   ...   \n",
       "124984                                                      \n",
       "124985  I often hear people describe cooking for one a...   \n",
       "124986                                                      \n",
       "124987                                                      \n",
       "124988  Our thoughts and feelings are powerful, but ma...   \n",
       "\n",
       "                                                 headline       date  \\\n",
       "0       There Were 2 Mass Shootings In Texas Last Week... 2018-05-26   \n",
       "1       Will Smith Joins Diplo And Nicky Jam For The 2... 2018-05-26   \n",
       "2         Hugh Grant Marries For The First Time At Age 57 2018-05-26   \n",
       "3       Jim Carrey Blasts 'Castrato' Adam Schiff And D... 2018-05-26   \n",
       "4       Julianna Margulies Uses Donald Trump Poop Bags... 2018-05-26   \n",
       "...                                                   ...        ...   \n",
       "124984             Why I Thought I'd Never Live To See 33 2014-04-18   \n",
       "124985                      Five Tips For Cooking For One 2014-04-18   \n",
       "124986   Police Want your Home Video Surveillance Footage 2014-04-18   \n",
       "124987                              Ouch, Natalie Morales 2014-04-18   \n",
       "124988                            Reasons Not to Be Happy 2014-04-18   \n",
       "\n",
       "                                                     link  \\\n",
       "0       https://www.huffingtonpost.com/entry/texas-ama...   \n",
       "1       https://www.huffingtonpost.com/entry/will-smit...   \n",
       "2       https://www.huffingtonpost.com/entry/hugh-gran...   \n",
       "3       https://www.huffingtonpost.com/entry/jim-carre...   \n",
       "4       https://www.huffingtonpost.com/entry/julianna-...   \n",
       "...                                                   ...   \n",
       "124984  https://www.huffingtonpost.com/entry/a-black-g...   \n",
       "124985  https://www.huffingtonpost.com/entry/five-tips...   \n",
       "124986  https://www.huffingtonpost.com/entry/police-wa...   \n",
       "124987  https://www.huffingtonpost.com/entry/natalie-m...   \n",
       "124988  https://www.huffingtonpost.com/entry/happiness...   \n",
       "\n",
       "                                                  authors        category  \n",
       "0                                         Melissa Jeltsen           CRIME  \n",
       "1                                           Andy McDonald   ENTERTAINMENT  \n",
       "2                                              Ron Dicker   ENTERTAINMENT  \n",
       "3                                              Ron Dicker   ENTERTAINMENT  \n",
       "4                                              Ron Dicker   ENTERTAINMENT  \n",
       "...                                                   ...             ...  \n",
       "124984                                                              WOMEN  \n",
       "124985         Food Riot, ContributorPlay with your food.           TASTE  \n",
       "124986  Robert Siciliano, ContributorPersonal Security...           CRIME  \n",
       "124987                                     Katherine Fung           MEDIA  \n",
       "124988  Mindy Utay, Contributor\"Calming Life's Conflicts\"  HEALTHY LIVING  \n",
       "\n",
       "[124989 rows x 6 columns]"
      ]
     },
     "execution_count": 2,
     "metadata": {},
     "output_type": "execute_result"
    }
   ],
   "source": [
    "df=pd.read_json(\"/home/jayanthikishore/Downloads/news_category_dataset.json\", lines=True)\n",
    "df"
   ]
  },
  {
   "cell_type": "code",
   "execution_count": 3,
   "metadata": {},
   "outputs": [
    {
     "data": {
      "text/plain": [
       "Index(['short_description', 'headline', 'date', 'link', 'authors', 'category'], dtype='object')"
      ]
     },
     "execution_count": 3,
     "metadata": {},
     "output_type": "execute_result"
    }
   ],
   "source": [
    "df.columns"
   ]
  },
  {
   "cell_type": "code",
   "execution_count": 4,
   "metadata": {},
   "outputs": [
    {
     "name": "stdout",
     "output_type": "stream",
     "text": [
      "<class 'pandas.core.frame.DataFrame'>\n",
      "RangeIndex: 124989 entries, 0 to 124988\n",
      "Data columns (total 6 columns):\n",
      " #   Column             Non-Null Count   Dtype         \n",
      "---  ------             --------------   -----         \n",
      " 0   short_description  124989 non-null  object        \n",
      " 1   headline           124989 non-null  object        \n",
      " 2   date               124989 non-null  datetime64[ns]\n",
      " 3   link               124989 non-null  object        \n",
      " 4   authors            124989 non-null  object        \n",
      " 5   category           124989 non-null  object        \n",
      "dtypes: datetime64[ns](1), object(5)\n",
      "memory usage: 5.7+ MB\n"
     ]
    }
   ],
   "source": [
    "df.info()"
   ]
  },
  {
   "cell_type": "markdown",
   "metadata": {},
   "source": [
    "######  <span style=\"font-family: Arial; font-weight:bold;font-size:1.em;color:#120eea\">Number of categories"
   ]
  },
  {
   "cell_type": "code",
   "execution_count": 5,
   "metadata": {},
   "outputs": [
    {
     "data": {
      "text/plain": [
       "31"
      ]
     },
     "execution_count": 5,
     "metadata": {},
     "output_type": "execute_result"
    }
   ],
   "source": [
    "len(set(df['category'].values))"
   ]
  },
  {
   "cell_type": "code",
   "execution_count": 6,
   "metadata": {},
   "outputs": [
    {
     "data": {
      "image/png": "[encoded data removed]",
      "text/plain": [
       "<Figure size 1080x504 with 1 Axes>"
      ]
     },
     "metadata": {
      "needs_background": "light"
     },
     "output_type": "display_data"
    }
   ],
   "source": [
    "import matplotlib.pyplot as plt\n",
    "import pandas as pd\n",
    "location = df['category']\n",
    "location = pd.DataFrame(location)\n",
    "location['Count'] = 1\n",
    "location = location.groupby('category').sum().sort_values(by = 'Count', ascending = False).nlargest(15,['Count'])\n",
    "location = location.reset_index()\n",
    "\n",
    "plt.figure(figsize=(15,7))\n",
    "sns.barplot(x = 'category',y = 'Count', data=location)\n",
    "plt.xticks(rotation=45)\n",
    "\n",
    "plt.show()"
   ]
  },
  {
   "cell_type": "code",
   "execution_count": 7,
   "metadata": {},
   "outputs": [
    {
     "data": {
      "text/html": [
       "<div>\n",
       "<style scoped>\n",
       "    .dataframe tbody tr th:only-of-type {\n",
       "        vertical-align: middle;\n",
       "    }\n",
       "\n",
       "    .dataframe tbody tr th {\n",
       "        vertical-align: top;\n",
       "    }\n",
       "\n",
       "    .dataframe thead th {\n",
       "        text-align: right;\n",
       "    }\n",
       "</style>\n",
       "<table border=\"1\" class=\"dataframe\">\n",
       "  <thead>\n",
       "    <tr style=\"text-align: right;\">\n",
       "      <th></th>\n",
       "      <th>category</th>\n",
       "      <th>Count</th>\n",
       "    </tr>\n",
       "  </thead>\n",
       "  <tbody>\n",
       "    <tr>\n",
       "      <th>0</th>\n",
       "      <td>POLITICS</td>\n",
       "      <td>32739</td>\n",
       "    </tr>\n",
       "    <tr>\n",
       "      <th>1</th>\n",
       "      <td>ENTERTAINMENT</td>\n",
       "      <td>14257</td>\n",
       "    </tr>\n",
       "    <tr>\n",
       "      <th>2</th>\n",
       "      <td>HEALTHY LIVING</td>\n",
       "      <td>6694</td>\n",
       "    </tr>\n",
       "    <tr>\n",
       "      <th>3</th>\n",
       "      <td>QUEER VOICES</td>\n",
       "      <td>4995</td>\n",
       "    </tr>\n",
       "    <tr>\n",
       "      <th>4</th>\n",
       "      <td>BUSINESS</td>\n",
       "      <td>4254</td>\n",
       "    </tr>\n",
       "    <tr>\n",
       "      <th>5</th>\n",
       "      <td>SPORTS</td>\n",
       "      <td>4167</td>\n",
       "    </tr>\n",
       "    <tr>\n",
       "      <th>6</th>\n",
       "      <td>COMEDY</td>\n",
       "      <td>3971</td>\n",
       "    </tr>\n",
       "    <tr>\n",
       "      <th>7</th>\n",
       "      <td>PARENTS</td>\n",
       "      <td>3955</td>\n",
       "    </tr>\n",
       "    <tr>\n",
       "      <th>8</th>\n",
       "      <td>BLACK VOICES</td>\n",
       "      <td>3858</td>\n",
       "    </tr>\n",
       "    <tr>\n",
       "      <th>9</th>\n",
       "      <td>THE WORLDPOST</td>\n",
       "      <td>3664</td>\n",
       "    </tr>\n",
       "    <tr>\n",
       "      <th>10</th>\n",
       "      <td>WOMEN</td>\n",
       "      <td>3490</td>\n",
       "    </tr>\n",
       "    <tr>\n",
       "      <th>11</th>\n",
       "      <td>CRIME</td>\n",
       "      <td>2893</td>\n",
       "    </tr>\n",
       "    <tr>\n",
       "      <th>12</th>\n",
       "      <td>MEDIA</td>\n",
       "      <td>2815</td>\n",
       "    </tr>\n",
       "    <tr>\n",
       "      <th>13</th>\n",
       "      <td>WEIRD NEWS</td>\n",
       "      <td>2670</td>\n",
       "    </tr>\n",
       "    <tr>\n",
       "      <th>14</th>\n",
       "      <td>GREEN</td>\n",
       "      <td>2622</td>\n",
       "    </tr>\n",
       "  </tbody>\n",
       "</table>\n",
       "</div>"
      ],
      "text/plain": [
       "          category  Count\n",
       "0         POLITICS  32739\n",
       "1    ENTERTAINMENT  14257\n",
       "2   HEALTHY LIVING   6694\n",
       "3     QUEER VOICES   4995\n",
       "4         BUSINESS   4254\n",
       "5           SPORTS   4167\n",
       "6           COMEDY   3971\n",
       "7          PARENTS   3955\n",
       "8     BLACK VOICES   3858\n",
       "9    THE WORLDPOST   3664\n",
       "10           WOMEN   3490\n",
       "11           CRIME   2893\n",
       "12           MEDIA   2815\n",
       "13      WEIRD NEWS   2670\n",
       "14           GREEN   2622"
      ]
     },
     "execution_count": 7,
     "metadata": {},
     "output_type": "execute_result"
    }
   ],
   "source": [
    "location"
   ]
  },
  {
   "cell_type": "code",
   "execution_count": 8,
   "metadata": {},
   "outputs": [
    {
     "name": "stdout",
     "output_type": "stream",
     "text": [
      "The date range of the data is between 2014-04-18 00:00:00 and 2018-05-26 00:00:00\n"
     ]
    },
    {
     "data": {
      "text/html": [
       "<div>\n",
       "<style scoped>\n",
       "    .dataframe tbody tr th:only-of-type {\n",
       "        vertical-align: middle;\n",
       "    }\n",
       "\n",
       "    .dataframe tbody tr th {\n",
       "        vertical-align: top;\n",
       "    }\n",
       "\n",
       "    .dataframe thead th {\n",
       "        text-align: right;\n",
       "    }\n",
       "</style>\n",
       "<table border=\"1\" class=\"dataframe\">\n",
       "  <thead>\n",
       "    <tr style=\"text-align: right;\">\n",
       "      <th></th>\n",
       "      <th>date</th>\n",
       "    </tr>\n",
       "  </thead>\n",
       "  <tbody>\n",
       "    <tr>\n",
       "      <th>0</th>\n",
       "      <td>2018-05-26</td>\n",
       "    </tr>\n",
       "    <tr>\n",
       "      <th>1</th>\n",
       "      <td>2018-05-26</td>\n",
       "    </tr>\n",
       "    <tr>\n",
       "      <th>2</th>\n",
       "      <td>2018-05-26</td>\n",
       "    </tr>\n",
       "    <tr>\n",
       "      <th>3</th>\n",
       "      <td>2018-05-26</td>\n",
       "    </tr>\n",
       "    <tr>\n",
       "      <th>4</th>\n",
       "      <td>2018-05-26</td>\n",
       "    </tr>\n",
       "    <tr>\n",
       "      <th>...</th>\n",
       "      <td>...</td>\n",
       "    </tr>\n",
       "    <tr>\n",
       "      <th>124984</th>\n",
       "      <td>2014-04-18</td>\n",
       "    </tr>\n",
       "    <tr>\n",
       "      <th>124985</th>\n",
       "      <td>2014-04-18</td>\n",
       "    </tr>\n",
       "    <tr>\n",
       "      <th>124986</th>\n",
       "      <td>2014-04-18</td>\n",
       "    </tr>\n",
       "    <tr>\n",
       "      <th>124987</th>\n",
       "      <td>2014-04-18</td>\n",
       "    </tr>\n",
       "    <tr>\n",
       "      <th>124988</th>\n",
       "      <td>2014-04-18</td>\n",
       "    </tr>\n",
       "  </tbody>\n",
       "</table>\n",
       "<p>124989 rows × 1 columns</p>\n",
       "</div>"
      ],
      "text/plain": [
       "             date\n",
       "0      2018-05-26\n",
       "1      2018-05-26\n",
       "2      2018-05-26\n",
       "3      2018-05-26\n",
       "4      2018-05-26\n",
       "...           ...\n",
       "124984 2014-04-18\n",
       "124985 2014-04-18\n",
       "124986 2014-04-18\n",
       "124987 2014-04-18\n",
       "124988 2014-04-18\n",
       "\n",
       "[124989 rows x 1 columns]"
      ]
     },
     "execution_count": 8,
     "metadata": {},
     "output_type": "execute_result"
    }
   ],
   "source": [
    "time = df.date\n",
    "time = pd.DataFrame(time)\n",
    "Min = time.date.min()\n",
    "Max = time.date.max()\n",
    "print(f'The date range of the data is between {Min} and {Max}')\n",
    "time"
   ]
  },
  {
   "cell_type": "code",
   "execution_count": 9,
   "metadata": {},
   "outputs": [
    {
     "data": {
      "text/plain": [
       "<matplotlib.axes._subplots.AxesSubplot at 0x7fdfb1bdafd0>"
      ]
     },
     "execution_count": 9,
     "metadata": {},
     "output_type": "execute_result"
    },
    {
     "data": {
      "image/png": "[encoded data removed]",
      "text/plain": [
       "<Figure size 1800x504 with 1 Axes>"
      ]
     },
     "metadata": {
      "needs_background": "light"
     },
     "output_type": "display_data"
    }
   ],
   "source": [
    "length_tweets = pd.DataFrame(df.headline)\n",
    "length_measured = []\n",
    "for i in length_tweets.headline:\n",
    " length_measured.append(len(i))\n",
    "\n",
    "plt.figure(figsize=(25,7))\n",
    "sns.distplot(length_measured)"
   ]
  },
  {
   "cell_type": "code",
   "execution_count": 10,
   "metadata": {},
   "outputs": [
    {
     "data": {
      "text/plain": [
       "array(['CRIME', 'ENTERTAINMENT', 'WORLD NEWS', 'IMPACT', 'POLITICS',\n",
       "       'WEIRD NEWS', 'BLACK VOICES', 'WOMEN', 'COMEDY', 'QUEER VOICES',\n",
       "       'SPORTS', 'BUSINESS', 'TRAVEL', 'MEDIA', 'TECH', 'RELIGION',\n",
       "       'SCIENCE', 'LATINO VOICES', 'EDUCATION', 'COLLEGE', 'PARENTS',\n",
       "       'ARTS & CULTURE', 'STYLE', 'GREEN', 'TASTE', 'HEALTHY LIVING',\n",
       "       'THE WORLDPOST', 'GOOD NEWS', 'WORLDPOST', 'FIFTY', 'ARTS'],\n",
       "      dtype=object)"
      ]
     },
     "execution_count": 10,
     "metadata": {},
     "output_type": "execute_result"
    }
   ],
   "source": [
    "df.category.unique()"
   ]
  },
  {
   "cell_type": "code",
   "execution_count": 11,
   "metadata": {},
   "outputs": [
    {
     "data": {
      "image/png": "[encoded data removed]",
      "text/plain": [
       "<Figure size 432x432 with 1 Axes>"
      ]
     },
     "metadata": {},
     "output_type": "display_data"
    },
    {
     "data": {
      "text/plain": [
       "POLITICS          32739\n",
       "ENTERTAINMENT     14257\n",
       "HEALTHY LIVING     6694\n",
       "QUEER VOICES       4995\n",
       "BUSINESS           4254\n",
       "SPORTS             4167\n",
       "COMEDY             3971\n",
       "PARENTS            3955\n",
       "Name: category, dtype: int64"
      ]
     },
     "execution_count": 11,
     "metadata": {},
     "output_type": "execute_result"
    }
   ],
   "source": [
    "labls = ['CRIME', 'ENTERTAINMENT', 'WORLD NEWS', 'IMPACT', 'POLITICS','WEIRD NEWS', 'BLACK VOICES', 'WOMEN']\n",
    "size1 = df['category'].value_counts()\n",
    "size=size1[0:8]\n",
    "explode = [0.1,0,0,0,0,0,0,0]\n",
    "\n",
    "plt.rcParams['figure.figsize'] = (6, 6)\n",
    "plt.pie(size, explode = explode, labels = labls, shadow = True, autopct = '%.2f%%')\n",
    "plt.title('Category', fontsize = 20)\n",
    "plt.axis('off')\n",
    "# plt.legend()\n",
    "plt.show()\n",
    "\n",
    "size"
   ]
  },
  {
   "cell_type": "code",
   "execution_count": 12,
   "metadata": {},
   "outputs": [
    {
     "data": {
      "image/png": "[encoded data removed]",
      "text/plain": [
       "<Figure size 1080x360 with 2 Axes>"
      ]
     },
     "metadata": {},
     "output_type": "display_data"
    }
   ],
   "source": [
    "f, (ax1,ax2) = plt.subplots(ncols=2, figsize=(15, 5))\n",
    "\n",
    "#first plot\n",
    "labls = ['CRIME', 'ENTERTAINMENT', 'WORLD NEWS', 'IMPACT', 'POLITICS','WEIRD NEWS', 'BLACK VOICES', 'WOMEN']\n",
    "size1 = df['category'].value_counts()\n",
    "size=size1[0:8]\n",
    "explode = [0.1,0,0,0,0,0,0,0]\n",
    "\n",
    "ax1.pie(size, explode = explode, labels = labls, shadow = True, autopct = '%.2f%%')\n",
    "ax1.set_title('Category', fontsize = 20)\n",
    "plt.axis('off')\n",
    "\n",
    "#second plot\n",
    "explode1 = [0.05,0.05,0.05,0.05,0.05,0.05,0.05,0.05]\n",
    "\n",
    "ax2.pie(size, explode = explode1, labels = labls, shadow = True, autopct = '%.2f%%')\n",
    "ax2.set_title('Category', fontsize = 20)\n",
    "#draw circle\n",
    "centre_circle = plt.Circle((0,0),0.70,fc='white')\n",
    "fig=plt.gcf()\n",
    "fig.gca().add_artist(centre_circle)\n",
    "\n",
    "#equal aspect ratio ensures that pie is drawn as a circle\n",
    "plt.axis('equal')\n",
    "plt.tight_layout()\n",
    "plt.show()"
   ]
  },
  {
   "cell_type": "markdown",
   "metadata": {},
   "source": [
    "######  <span style=\"font-family: Arial; font-weight:bold;font-size:1.em;color:#120eea\">Texts for Classification\n",
    "    \n",
    "- We create 3 different versions of classification "
   ]
  },
  {
   "cell_type": "code",
   "execution_count": 16,
   "metadata": {},
   "outputs": [
    {
     "data": {
      "text/html": [
       "<div>\n",
       "<style scoped>\n",
       "    .dataframe tbody tr th:only-of-type {\n",
       "        vertical-align: middle;\n",
       "    }\n",
       "\n",
       "    .dataframe tbody tr th {\n",
       "        vertical-align: top;\n",
       "    }\n",
       "\n",
       "    .dataframe thead th {\n",
       "        text-align: right;\n",
       "    }\n",
       "</style>\n",
       "<table border=\"1\" class=\"dataframe\">\n",
       "  <thead>\n",
       "    <tr style=\"text-align: right;\">\n",
       "      <th></th>\n",
       "      <th>short_description</th>\n",
       "      <th>headline</th>\n",
       "      <th>date</th>\n",
       "      <th>link</th>\n",
       "      <th>authors</th>\n",
       "      <th>category</th>\n",
       "      <th>tokenized_url</th>\n",
       "      <th>text_desc</th>\n",
       "      <th>text_desc_headline</th>\n",
       "      <th>text_desc_headline_url</th>\n",
       "    </tr>\n",
       "  </thead>\n",
       "  <tbody>\n",
       "    <tr>\n",
       "      <th>0</th>\n",
       "      <td>She left her husband. He killed their children...</td>\n",
       "      <td>There Were 2 Mass Shootings In Texas Last Week...</td>\n",
       "      <td>2018-05-26</td>\n",
       "      <td>https://www.huffingtonpost.com/entry/texas-ama...</td>\n",
       "      <td>Melissa Jeltsen</td>\n",
       "      <td>CRIME</td>\n",
       "      <td>texas amanda painter mass shooting us 5b081ab4...</td>\n",
       "      <td>She left her husband. He killed their children...</td>\n",
       "      <td>She left her husband. He killed their children...</td>\n",
       "      <td>She left her husband. He killed their children...</td>\n",
       "    </tr>\n",
       "    <tr>\n",
       "      <th>1</th>\n",
       "      <td>Of course it has a song.</td>\n",
       "      <td>Will Smith Joins Diplo And Nicky Jam For The 2...</td>\n",
       "      <td>2018-05-26</td>\n",
       "      <td>https://www.huffingtonpost.com/entry/will-smit...</td>\n",
       "      <td>Andy McDonald</td>\n",
       "      <td>ENTERTAINMENT</td>\n",
       "      <td>will smith joins diplo and nicky jam for the o...</td>\n",
       "      <td>Of course it has a song.</td>\n",
       "      <td>Of course it has a song. Will Smith Joins Dipl...</td>\n",
       "      <td>Of course it has a song. Will Smith Joins Dipl...</td>\n",
       "    </tr>\n",
       "    <tr>\n",
       "      <th>2</th>\n",
       "      <td>The actor and his longtime girlfriend Anna Ebe...</td>\n",
       "      <td>Hugh Grant Marries For The First Time At Age 57</td>\n",
       "      <td>2018-05-26</td>\n",
       "      <td>https://www.huffingtonpost.com/entry/hugh-gran...</td>\n",
       "      <td>Ron Dicker</td>\n",
       "      <td>ENTERTAINMENT</td>\n",
       "      <td>hugh grant marries us 5b09212ce4b0568a880b9a8c</td>\n",
       "      <td>The actor and his longtime girlfriend Anna Ebe...</td>\n",
       "      <td>The actor and his longtime girlfriend Anna Ebe...</td>\n",
       "      <td>The actor and his longtime girlfriend Anna Ebe...</td>\n",
       "    </tr>\n",
       "  </tbody>\n",
       "</table>\n",
       "</div>"
      ],
      "text/plain": [
       "                                   short_description  \\\n",
       "0  She left her husband. He killed their children...   \n",
       "1                           Of course it has a song.   \n",
       "2  The actor and his longtime girlfriend Anna Ebe...   \n",
       "\n",
       "                                            headline       date  \\\n",
       "0  There Were 2 Mass Shootings In Texas Last Week... 2018-05-26   \n",
       "1  Will Smith Joins Diplo And Nicky Jam For The 2... 2018-05-26   \n",
       "2    Hugh Grant Marries For The First Time At Age 57 2018-05-26   \n",
       "\n",
       "                                                link          authors  \\\n",
       "0  https://www.huffingtonpost.com/entry/texas-ama...  Melissa Jeltsen   \n",
       "1  https://www.huffingtonpost.com/entry/will-smit...    Andy McDonald   \n",
       "2  https://www.huffingtonpost.com/entry/hugh-gran...       Ron Dicker   \n",
       "\n",
       "        category                                      tokenized_url  \\\n",
       "0          CRIME  texas amanda painter mass shooting us 5b081ab4...   \n",
       "1  ENTERTAINMENT  will smith joins diplo and nicky jam for the o...   \n",
       "2  ENTERTAINMENT     hugh grant marries us 5b09212ce4b0568a880b9a8c   \n",
       "\n",
       "                                           text_desc  \\\n",
       "0  She left her husband. He killed their children...   \n",
       "1                           Of course it has a song.   \n",
       "2  The actor and his longtime girlfriend Anna Ebe...   \n",
       "\n",
       "                                  text_desc_headline  \\\n",
       "0  She left her husband. He killed their children...   \n",
       "1  Of course it has a song. Will Smith Joins Dipl...   \n",
       "2  The actor and his longtime girlfriend Anna Ebe...   \n",
       "\n",
       "                              text_desc_headline_url  \n",
       "0  She left her husband. He killed their children...  \n",
       "1  Of course it has a song. Will Smith Joins Dipl...  \n",
       "2  The actor and his longtime girlfriend Anna Ebe...  "
      ]
     },
     "execution_count": 16,
     "metadata": {},
     "output_type": "execute_result"
    }
   ],
   "source": [
    "import re\n",
    "\n",
    "def tokenize_url(url:str):   \n",
    "    url=url.replace(\"https://www.huffingtonpost.com/entry/\",\"\")\n",
    "    url=re.sub(\"(\\W|_)+\",\" \",url)\n",
    "    return url\n",
    "\n",
    "df['tokenized_url']=df['link'].apply(lambda x:tokenize_url(x))\n",
    "\n",
    "#just the description\n",
    "df['text_desc'] = df['short_description']\n",
    "\n",
    "#description + headline\n",
    "df['text_desc_headline'] = df['short_description'] + ' '+ df['headline']\n",
    "\n",
    "#description + headline + tokenized url\n",
    "df['text_desc_headline_url'] = df['short_description'] + ' '+ df['headline']+\" \" + df['tokenized_url']\n",
    "\n",
    "df.head(3)"
   ]
  },
  {
   "cell_type": "code",
   "execution_count": 18,
   "metadata": {},
   "outputs": [],
   "source": [
    "def _reciprocal_rank(true_labels: list, machine_preds: list):\n",
    "    \"\"\"Compute the reciprocal rank at cutoff k\"\"\"\n",
    "    \n",
    "    # add index to list only if machine predicted label exists in true labels\n",
    "    tp_pos_list = [(idx + 1) for idx, r in enumerate(machine_preds) if r in true_labels]\n",
    "\n",
    "    rr = 0\n",
    "    if len(tp_pos_list) > 0:\n",
    "        # for RR we need position of first correct item\n",
    "        first_pos_list = tp_pos_list[0]\n",
    "        \n",
    "        # rr = 1/rank\n",
    "        rr = 1 / float(first_pos_list)\n",
    "\n",
    "    return rr\n",
    "\n",
    "def compute_mrr_at_k(items:list):\n",
    "    \"\"\"Compute the MRR (average RR) at cutoff k\"\"\"\n",
    "    rr_total = 0\n",
    "    \n",
    "    for item in items:   \n",
    "        rr_at_k = _reciprocal_rank(item[0],item[1])\n",
    "        rr_total = rr_total + rr_at_k\n",
    "        mrr = rr_total / 1/float(len(items))\n",
    "\n",
    "    return mrr\n",
    "\n",
    "def collect_preds(Y_test,Y_preds):\n",
    "    \"\"\"Collect all predictions and ground truth\"\"\"\n",
    "    \n",
    "    pred_gold_list=[[[Y_test[idx]],pred] for idx,pred in enumerate(Y_preds)]\n",
    "    return pred_gold_list\n",
    "             \n",
    "def compute_accuracy(eval_items:list):\n",
    "    correct=0\n",
    "    total=0\n",
    "    \n",
    "    for item in eval_items:\n",
    "        true_pred=item[0]\n",
    "        machine_pred=set(item[1])\n",
    "        \n",
    "        for cat in true_pred:\n",
    "            if cat in machine_pred:\n",
    "                correct+=1\n",
    "                break\n",
    "    \n",
    "    \n",
    "    accuracy=correct/float(len(eval_items))\n",
    "    return accuracy"
   ]
  },
  {
   "cell_type": "code",
   "execution_count": 19,
   "metadata": {},
   "outputs": [],
   "source": [
    "from sklearn.metrics import precision_recall_fscore_support\n",
    "from sklearn.model_selection import train_test_split\n",
    "from sklearn.linear_model import LogisticRegression\n",
    "from sklearn.feature_extraction.text import CountVectorizer,TfidfVectorizer\n",
    "\n",
    "import numpy as np\n",
    "import logging\n",
    "\n",
    "logging.basicConfig(format='%(asctime)s : %(levelname)s : %(message)s', level=logging.INFO)\n",
    "\n",
    "def extract_features(df,field,training_data,testing_data,type=\"binary\"):\n",
    "    \"\"\"Extract features using different methods\"\"\"\n",
    "    \n",
    "    logging.info(\"Extracting features and creating vocabulary...\")\n",
    "    \n",
    "    if \"binary\" in type:\n",
    "        \n",
    "        # BINARY FEATURE REPRESENTATION\n",
    "        cv= CountVectorizer(binary=True, max_df=0.95)\n",
    "        cv.fit_transform(training_data[field].values)\n",
    "        \n",
    "        train_feature_set=cv.transform(training_data[field].values)\n",
    "        test_feature_set=cv.transform(testing_data[field].values)\n",
    "        \n",
    "        return train_feature_set,test_feature_set,cv\n",
    "  \n",
    "    elif \"counts\" in type:\n",
    "        \n",
    "        # COUNT BASED FEATURE REPRESENTATION\n",
    "        cv= CountVectorizer(binary=False, max_df=0.95)\n",
    "        cv.fit_transform(training_data[field].values)\n",
    "        \n",
    "        train_feature_set=cv.transform(training_data[field].values)\n",
    "        test_feature_set=cv.transform(testing_data[field].values)\n",
    "        \n",
    "        return train_feature_set,test_feature_set,cv\n",
    "    \n",
    "    else:    \n",
    "        \n",
    "        # TF-IDF BASED FEATURE REPRESENTATION\n",
    "        tfidf_vectorizer=TfidfVectorizer(use_idf=True, max_df=0.95)\n",
    "        tfidf_vectorizer.fit_transform(training_data[field].values)\n",
    "        \n",
    "        train_feature_set=tfidf_vectorizer.transform(training_data[field].values)\n",
    "        test_feature_set=tfidf_vectorizer.transform(testing_data[field].values)\n",
    "        \n",
    "        return train_feature_set,test_feature_set,tfidf_vectorizer\n",
    "\n",
    "def get_top_k_predictions(model,X_test,k):\n",
    "    \n",
    "    # get probabilities instead of predicted labels, since we want to collect top 3\n",
    "    probs = model.predict_proba(X_test)\n",
    "\n",
    "    # GET TOP K PREDICTIONS BY PROB - note these are just index\n",
    "    best_n = np.argsort(probs, axis=1)[:,-k:]\n",
    "    \n",
    "    # GET CATEGORY OF PREDICTIONS\n",
    "    preds=[[model.classes_[predicted_cat] for predicted_cat in prediction] for prediction in best_n]\n",
    "    \n",
    "    preds=[ item[::-1] for item in preds]\n",
    "    \n",
    "    return preds\n",
    "   \n",
    "    \n",
    "def train_model(df,field=\"text_desc\",feature_rep=\"binary\",top_k=3):\n",
    "    \n",
    "    logging.info(\"Starting model training...\")\n",
    "    \n",
    "    # GET A TRAIN TEST SPLIT (set seed for consistent results)\n",
    "    training_data, testing_data = train_test_split(df,random_state = 2000,)\n",
    "\n",
    "    # GET LABELS\n",
    "    Y_train=training_data['category'].values\n",
    "    Y_test=testing_data['category'].values\n",
    "     \n",
    "    # GET FEATURES\n",
    "    X_train,X_test,feature_transformer=extract_features(df,field,training_data,testing_data,type=feature_rep)\n",
    "\n",
    "    # INIT LOGISTIC REGRESSION CLASSIFIER\n",
    "    logging.info(\"Training a Logistic Regression Model...\")\n",
    "    scikit_log_reg = LogisticRegression(verbose=1, solver='liblinear',random_state=0, C=5, penalty='l2',max_iter=1000)\n",
    "    model=scikit_log_reg.fit(X_train,Y_train)\n",
    "\n",
    "    # GET TOP K PREDICTIONS\n",
    "    preds=get_top_k_predictions(model,X_test,top_k)\n",
    "    \n",
    "    # GET PREDICTED VALUES AND GROUND TRUTH INTO A LIST OF LISTS - for ease of evaluation\n",
    "    eval_items=collect_preds(Y_test,preds)\n",
    "    \n",
    "    # GET EVALUATION NUMBERS ON TEST SET -- HOW DID WE DO?\n",
    "    logging.info(\"Starting evaluation...\")\n",
    "    accuracy=compute_accuracy(eval_items)\n",
    "    mrr_at_k=compute_mrr_at_k(eval_items)\n",
    "    \n",
    "    logging.info(\"Done training and evaluation.\")\n",
    "    \n",
    "    return model,feature_transformer,accuracy,mrr_at_k\n"
   ]
  },
  {
   "cell_type": "markdown",
   "metadata": {},
   "source": [
    "######  <span style=\"font-family: Arial; font-weight:bold;font-size:1.em;color:#120eea\">Train a Single Model\n",
    "    \n",
    "- Model - 1 (binary features with description only)"
   ]
  },
  {
   "cell_type": "code",
   "execution_count": 20,
   "metadata": {},
   "outputs": [
    {
     "name": "stderr",
     "output_type": "stream",
     "text": [
      "2021-05-27 18:40:12,024 : INFO : Starting model training...\n",
      "2021-05-27 18:40:12,166 : INFO : Extracting features and creating vocabulary...\n",
      "2021-05-27 18:40:14,864 : INFO : Training a Logistic Regression Model...\n"
     ]
    },
    {
     "name": "stdout",
     "output_type": "stream",
     "text": [
      "[LibLinear]"
     ]
    },
    {
     "name": "stderr",
     "output_type": "stream",
     "text": [
      "2021-05-27 18:43:22,776 : INFO : Starting evaluation...\n",
      "2021-05-27 18:43:22,840 : INFO : Done training and evaluation.\n"
     ]
    },
    {
     "name": "stdout",
     "output_type": "stream",
     "text": [
      "\n",
      "Accuracy=0.5981182795698925; MRR=0.4804787506400565\n"
     ]
    }
   ],
   "source": [
    "field='text_desc'\n",
    "feature_rep='binary'\n",
    "top_k=3\n",
    "\n",
    "model,transformer,accuracy,mrr_at_k=train_model(df,field=field,feature_rep=feature_rep,top_k=top_k)\n",
    "print(\"\\nAccuracy={0}; MRR={1}\".format(accuracy,mrr_at_k))\n"
   ]
  },
  {
   "cell_type": "markdown",
   "metadata": {},
   "source": [
    "######  <span style=\"font-family: Arial; font-weight:bold;font-size:1.em;color:#120eea\">Model - 2 (tfidf features with description only)"
   ]
  },
  {
   "cell_type": "code",
   "execution_count": 21,
   "metadata": {},
   "outputs": [
    {
     "name": "stderr",
     "output_type": "stream",
     "text": [
      "2021-05-27 18:46:08,048 : INFO : Starting model training...\n",
      "2021-05-27 18:46:08,116 : INFO : Extracting features and creating vocabulary...\n",
      "2021-05-27 18:46:10,935 : INFO : Training a Logistic Regression Model...\n"
     ]
    },
    {
     "name": "stdout",
     "output_type": "stream",
     "text": [
      "[LibLinear]"
     ]
    },
    {
     "name": "stderr",
     "output_type": "stream",
     "text": [
      "2021-05-27 18:47:00,655 : INFO : Starting evaluation...\n",
      "2021-05-27 18:47:00,723 : INFO : Done training and evaluation.\n"
     ]
    },
    {
     "name": "stdout",
     "output_type": "stream",
     "text": [
      "\n",
      "Accuracy=0.6306963645673324; MRR=0.5108380269670775\n"
     ]
    }
   ],
   "source": [
    "field='text_desc'\n",
    "feature_rep='tfidf'\n",
    "top_k=3\n",
    "\n",
    "model,transformer,accuracy,mrr_at_k=train_model(df,field=field,feature_rep=feature_rep,top_k=top_k)\n",
    "print(\"\\nAccuracy={0}; MRR={1}\".format(accuracy,mrr_at_k))\n"
   ]
  },
  {
   "cell_type": "markdown",
   "metadata": {},
   "source": [
    "######  <span style=\"font-family: Arial; font-weight:bold;font-size:1.em;color:#120eea\">Model - 3 (tfidf features with description, headline, url)"
   ]
  },
  {
   "cell_type": "code",
   "execution_count": 22,
   "metadata": {},
   "outputs": [
    {
     "name": "stderr",
     "output_type": "stream",
     "text": [
      "2021-05-27 18:47:00,766 : INFO : Starting model training...\n",
      "2021-05-27 18:47:00,851 : INFO : Extracting features and creating vocabulary...\n",
      "2021-05-27 18:47:06,762 : INFO : Training a Logistic Regression Model...\n"
     ]
    },
    {
     "name": "stdout",
     "output_type": "stream",
     "text": [
      "[LibLinear]"
     ]
    },
    {
     "name": "stderr",
     "output_type": "stream",
     "text": [
      "2021-05-27 18:48:20,766 : INFO : Starting evaluation...\n",
      "2021-05-27 18:48:20,828 : INFO : Done training and evaluation.\n"
     ]
    },
    {
     "name": "stdout",
     "output_type": "stream",
     "text": [
      "\n",
      "Accuracy=0.8672875064004096; MRR=0.7511680747567727\n"
     ]
    }
   ],
   "source": [
    "field='text_desc_headline_url'\n",
    "feature_rep='tfidf'\n",
    "top_k=3\n",
    "\n",
    "model,transformer,accuracy,mrr_at_k=train_model(df,field=field,feature_rep=feature_rep,top_k=top_k)\n",
    "print(\"\\nAccuracy={0}; MRR={1}\".format(accuracy,mrr_at_k))"
   ]
  },
  {
   "cell_type": "markdown",
   "metadata": {},
   "source": [
    "######  <span style=\"font-family: Arial; font-weight:bold;font-size:1.em;color:#120eea\">Check Predictions on Unseen Articles from CNN (not HuffPost our training data)"
   ]
  },
  {
   "cell_type": "code",
   "execution_count": 23,
   "metadata": {},
   "outputs": [
    {
     "data": {
      "text/plain": [
       "[['POLITICS', 'CRIME']]"
      ]
     },
     "execution_count": 23,
     "metadata": {},
     "output_type": "execute_result"
    }
   ],
   "source": [
    "# https://www.cnn.com/2019/07/19/politics/george-nader-child-porn-sex-charges/index.html\n",
    "test_features=transformer.transform([\"George Aref Nader, who was a key witness in special counsel Robert Mueller's Russia investigation, faces new charges of transporting a minor with intent to engage in criminal sexual activity and child pornography\"])\n",
    "get_top_k_predictions(model,test_features,2)"
   ]
  },
  {
   "cell_type": "code",
   "execution_count": 24,
   "metadata": {},
   "outputs": [
    {
     "data": {
      "text/plain": [
       "[['ENTERTAINMENT', 'STYLE']]"
      ]
     },
     "execution_count": 24,
     "metadata": {},
     "output_type": "execute_result"
    }
   ],
   "source": [
    "# https://www.cnn.com/2019/07/18/entertainment/khloe-kardashian-true-thompson-video-trnd/index.html\n",
    "test_features=transformer.transform([\"True Thompson makes an adorable cameo in Khloe Kardashian's new makeup tutorial video\"])\n",
    "model.predict(test_features)\n",
    "get_top_k_predictions(model,test_features,2)\n"
   ]
  },
  {
   "cell_type": "code",
   "execution_count": 25,
   "metadata": {},
   "outputs": [
    {
     "data": {
      "text/plain": [
       "[['ENTERTAINMENT', 'STYLE']]"
      ]
     },
     "execution_count": 25,
     "metadata": {},
     "output_type": "execute_result"
    }
   ],
   "source": [
    "# https://www.cnn.com/2019/07/12/entertainment/heidi-klum-tom-kaulitz/\n",
    "test_features=transformer.transform([\"Heidi Klum is apparently the latest celeb to get married and not tell us\"])\n",
    "get_top_k_predictions(model,test_features,2)"
   ]
  },
  {
   "cell_type": "code",
   "execution_count": 26,
   "metadata": {},
   "outputs": [
    {
     "data": {
      "text/plain": [
       "[['BUSINESS', 'POLITICS']]"
      ]
     },
     "execution_count": 26,
     "metadata": {},
     "output_type": "execute_result"
    }
   ],
   "source": [
    "# https://www.cnn.com/2019/07/19/investing/dow-stock-market-today/index.html\n",
    "test_features=transformer.transform([\"Stocks end lower as geopolitical fears rise. The Dow and US markets closed lower on Friday, as geopolitical worries overshadowed the hopes of interest rate cuts by the Federal Reserve.\"])\n",
    "get_top_k_predictions(model,test_features,2)"
   ]
  },
  {
   "cell_type": "code",
   "execution_count": 27,
   "metadata": {},
   "outputs": [
    {
     "data": {
      "text/plain": [
       "[['SCIENCE', 'HEALTHY LIVING']]"
      ]
     },
     "execution_count": 27,
     "metadata": {},
     "output_type": "execute_result"
    }
   ],
   "source": [
    "# https://www.cnn.com/2019/07/19/health/astronaut-exercise-iv-faint-scn/index.html\n",
    "test_features=transformer.transform([\"Exercise in space keeps astronauts from fainting when they return to Earth, study says. \"])\n",
    "get_top_k_predictions(model,test_features,2)"
   ]
  },
  {
   "cell_type": "markdown",
   "metadata": {},
   "source": [
    "######  <span style=\"font-family: Arial; font-weight:bold;font-size:1.em;color:#120eea\">Train Different Types of Models"
   ]
  },
  {
   "cell_type": "code",
   "execution_count": 28,
   "metadata": {},
   "outputs": [
    {
     "name": "stderr",
     "output_type": "stream",
     "text": [
      "2021-05-27 18:55:41,990 : INFO : Starting model training...\n",
      "2021-05-27 18:55:42,059 : INFO : Extracting features and creating vocabulary...\n",
      "2021-05-27 18:55:44,954 : INFO : Training a Logistic Regression Model...\n"
     ]
    },
    {
     "name": "stdout",
     "output_type": "stream",
     "text": [
      "[LibLinear]"
     ]
    },
    {
     "name": "stderr",
     "output_type": "stream",
     "text": [
      "2021-05-27 18:58:19,526 : INFO : Starting evaluation...\n",
      "2021-05-27 18:58:19,586 : INFO : Done training and evaluation.\n",
      "2021-05-27 18:58:19,628 : INFO : Starting model training...\n",
      "2021-05-27 18:58:19,689 : INFO : Extracting features and creating vocabulary...\n",
      "2021-05-27 18:58:22,458 : INFO : Training a Logistic Regression Model...\n"
     ]
    },
    {
     "name": "stdout",
     "output_type": "stream",
     "text": [
      "[LibLinear]"
     ]
    },
    {
     "name": "stderr",
     "output_type": "stream",
     "text": [
      "2021-05-27 19:02:28,986 : INFO : Starting evaluation...\n",
      "2021-05-27 19:02:29,046 : INFO : Done training and evaluation.\n",
      "2021-05-27 19:02:29,079 : INFO : Starting model training...\n",
      "2021-05-27 19:02:29,145 : INFO : Extracting features and creating vocabulary...\n",
      "2021-05-27 19:02:32,020 : INFO : Training a Logistic Regression Model...\n"
     ]
    },
    {
     "name": "stdout",
     "output_type": "stream",
     "text": [
      "[LibLinear]"
     ]
    },
    {
     "name": "stderr",
     "output_type": "stream",
     "text": [
      "2021-05-27 19:03:17,266 : INFO : Starting evaluation...\n",
      "2021-05-27 19:03:17,329 : INFO : Done training and evaluation.\n",
      "2021-05-27 19:03:17,362 : INFO : Starting model training...\n",
      "2021-05-27 19:03:17,429 : INFO : Extracting features and creating vocabulary...\n",
      "2021-05-27 19:03:21,625 : INFO : Training a Logistic Regression Model...\n"
     ]
    },
    {
     "name": "stdout",
     "output_type": "stream",
     "text": [
      "[LibLinear]"
     ]
    },
    {
     "name": "stderr",
     "output_type": "stream",
     "text": [
      "2021-05-27 19:07:03,592 : INFO : Starting evaluation...\n",
      "2021-05-27 19:07:03,654 : INFO : Done training and evaluation.\n",
      "2021-05-27 19:07:03,689 : INFO : Starting model training...\n",
      "2021-05-27 19:07:03,762 : INFO : Extracting features and creating vocabulary...\n",
      "2021-05-27 19:07:08,367 : INFO : Training a Logistic Regression Model...\n"
     ]
    },
    {
     "name": "stdout",
     "output_type": "stream",
     "text": [
      "[LibLinear]"
     ]
    },
    {
     "name": "stderr",
     "output_type": "stream",
     "text": [
      "2021-05-27 19:12:43,203 : INFO : Starting evaluation...\n",
      "2021-05-27 19:12:43,267 : INFO : Done training and evaluation.\n",
      "2021-05-27 19:12:43,304 : INFO : Starting model training...\n",
      "2021-05-27 19:12:43,370 : INFO : Extracting features and creating vocabulary...\n",
      "2021-05-27 19:12:47,888 : INFO : Training a Logistic Regression Model...\n"
     ]
    },
    {
     "name": "stdout",
     "output_type": "stream",
     "text": [
      "[LibLinear]"
     ]
    },
    {
     "name": "stderr",
     "output_type": "stream",
     "text": [
      "2021-05-27 19:13:50,490 : INFO : Starting evaluation...\n",
      "2021-05-27 19:13:50,556 : INFO : Done training and evaluation.\n",
      "2021-05-27 19:13:50,606 : INFO : Starting model training...\n",
      "2021-05-27 19:13:50,685 : INFO : Extracting features and creating vocabulary...\n",
      "2021-05-27 19:13:56,175 : INFO : Training a Logistic Regression Model...\n"
     ]
    },
    {
     "name": "stdout",
     "output_type": "stream",
     "text": [
      "[LibLinear]"
     ]
    },
    {
     "name": "stderr",
     "output_type": "stream",
     "text": [
      "2021-05-27 19:17:25,941 : INFO : Starting evaluation...\n",
      "2021-05-27 19:17:26,002 : INFO : Done training and evaluation.\n",
      "2021-05-27 19:17:26,037 : INFO : Starting model training...\n",
      "2021-05-27 19:17:26,101 : INFO : Extracting features and creating vocabulary...\n",
      "2021-05-27 19:17:31,567 : INFO : Training a Logistic Regression Model...\n"
     ]
    },
    {
     "name": "stdout",
     "output_type": "stream",
     "text": [
      "[LibLinear]"
     ]
    },
    {
     "name": "stderr",
     "output_type": "stream",
     "text": [
      "2021-05-27 19:22:55,773 : INFO : Starting evaluation...\n",
      "2021-05-27 19:22:55,836 : INFO : Done training and evaluation.\n",
      "2021-05-27 19:22:55,878 : INFO : Starting model training...\n",
      "2021-05-27 19:22:55,941 : INFO : Extracting features and creating vocabulary...\n",
      "2021-05-27 19:23:01,302 : INFO : Training a Logistic Regression Model...\n"
     ]
    },
    {
     "name": "stdout",
     "output_type": "stream",
     "text": [
      "[LibLinear]"
     ]
    },
    {
     "name": "stderr",
     "output_type": "stream",
     "text": [
      "2021-05-27 19:24:06,098 : INFO : Starting evaluation...\n",
      "2021-05-27 19:24:06,160 : INFO : Done training and evaluation.\n"
     ]
    }
   ],
   "source": [
    "feature_reps=['binary','counts','tfidf']\n",
    "fields=['text_desc','text_desc_headline','text_desc_headline_url']\n",
    "top_ks=[3]\n",
    "\n",
    "results=[]\n",
    "for field in fields:\n",
    "    for feature_rep in feature_reps:\n",
    "        for top_k in top_ks:\n",
    "            model,transformer,acc,mrr_at_k=train_model(df,field=field,feature_rep=feature_rep,top_k=top_k)\n",
    "            results.append([field,feature_rep,top_k,acc,mrr_at_k])"
   ]
  },
  {
   "cell_type": "markdown",
   "metadata": {},
   "source": [
    "- Results of Various Models"
   ]
  },
  {
   "cell_type": "code",
   "execution_count": 29,
   "metadata": {},
   "outputs": [
    {
     "data": {
      "text/html": [
       "<div>\n",
       "<style scoped>\n",
       "    .dataframe tbody tr th:only-of-type {\n",
       "        vertical-align: middle;\n",
       "    }\n",
       "\n",
       "    .dataframe tbody tr th {\n",
       "        vertical-align: top;\n",
       "    }\n",
       "\n",
       "    .dataframe thead th {\n",
       "        text-align: right;\n",
       "    }\n",
       "</style>\n",
       "<table border=\"1\" class=\"dataframe\">\n",
       "  <thead>\n",
       "    <tr style=\"text-align: right;\">\n",
       "      <th></th>\n",
       "      <th>text_fields</th>\n",
       "      <th>feature_representation</th>\n",
       "      <th>top_k</th>\n",
       "      <th>accuracy</th>\n",
       "      <th>mrr_at_k</th>\n",
       "    </tr>\n",
       "  </thead>\n",
       "  <tbody>\n",
       "    <tr>\n",
       "      <th>8</th>\n",
       "      <td>text_desc_headline_url</td>\n",
       "      <td>tfidf</td>\n",
       "      <td>3</td>\n",
       "      <td>0.867288</td>\n",
       "      <td>0.751168</td>\n",
       "    </tr>\n",
       "    <tr>\n",
       "      <th>6</th>\n",
       "      <td>text_desc_headline_url</td>\n",
       "      <td>binary</td>\n",
       "      <td>3</td>\n",
       "      <td>0.830101</td>\n",
       "      <td>0.715576</td>\n",
       "    </tr>\n",
       "    <tr>\n",
       "      <th>7</th>\n",
       "      <td>text_desc_headline_url</td>\n",
       "      <td>counts</td>\n",
       "      <td>3</td>\n",
       "      <td>0.829653</td>\n",
       "      <td>0.718126</td>\n",
       "    </tr>\n",
       "    <tr>\n",
       "      <th>5</th>\n",
       "      <td>text_desc_headline</td>\n",
       "      <td>tfidf</td>\n",
       "      <td>3</td>\n",
       "      <td>0.835893</td>\n",
       "      <td>0.717177</td>\n",
       "    </tr>\n",
       "    <tr>\n",
       "      <th>3</th>\n",
       "      <td>text_desc_headline</td>\n",
       "      <td>binary</td>\n",
       "      <td>3</td>\n",
       "      <td>0.794579</td>\n",
       "      <td>0.679158</td>\n",
       "    </tr>\n",
       "    <tr>\n",
       "      <th>4</th>\n",
       "      <td>text_desc_headline</td>\n",
       "      <td>counts</td>\n",
       "      <td>3</td>\n",
       "      <td>0.792147</td>\n",
       "      <td>0.677921</td>\n",
       "    </tr>\n",
       "    <tr>\n",
       "      <th>2</th>\n",
       "      <td>text_desc</td>\n",
       "      <td>tfidf</td>\n",
       "      <td>3</td>\n",
       "      <td>0.630696</td>\n",
       "      <td>0.510838</td>\n",
       "    </tr>\n",
       "    <tr>\n",
       "      <th>0</th>\n",
       "      <td>text_desc</td>\n",
       "      <td>binary</td>\n",
       "      <td>3</td>\n",
       "      <td>0.598118</td>\n",
       "      <td>0.480479</td>\n",
       "    </tr>\n",
       "    <tr>\n",
       "      <th>1</th>\n",
       "      <td>text_desc</td>\n",
       "      <td>counts</td>\n",
       "      <td>3</td>\n",
       "      <td>0.595654</td>\n",
       "      <td>0.478479</td>\n",
       "    </tr>\n",
       "  </tbody>\n",
       "</table>\n",
       "</div>"
      ],
      "text/plain": [
       "              text_fields feature_representation  top_k  accuracy  mrr_at_k\n",
       "8  text_desc_headline_url                  tfidf      3  0.867288  0.751168\n",
       "6  text_desc_headline_url                 binary      3  0.830101  0.715576\n",
       "7  text_desc_headline_url                 counts      3  0.829653  0.718126\n",
       "5      text_desc_headline                  tfidf      3  0.835893  0.717177\n",
       "3      text_desc_headline                 binary      3  0.794579  0.679158\n",
       "4      text_desc_headline                 counts      3  0.792147  0.677921\n",
       "2               text_desc                  tfidf      3  0.630696  0.510838\n",
       "0               text_desc                 binary      3  0.598118  0.480479\n",
       "1               text_desc                 counts      3  0.595654  0.478479"
      ]
     },
     "execution_count": 29,
     "metadata": {},
     "output_type": "execute_result"
    }
   ],
   "source": [
    "df_results=pd.DataFrame(results,columns=['text_fields','feature_representation','top_k','accuracy','mrr_at_k'])\n",
    "df_results.sort_values(by=['text_fields','accuracy'],ascending=False)"
   ]
  },
  {
   "cell_type": "markdown",
   "metadata": {},
   "source": [
    "######  <span style=\"font-family: Arial; font-weight:bold;font-size:1.em;color:#120eea\">Save Model for Future Use"
   ]
  },
  {
   "cell_type": "code",
   "execution_count": 32,
   "metadata": {},
   "outputs": [],
   "source": [
    "import pickle\n",
    "\n",
    "model_path=\"/home/jayanthikishore/Downloads/models/model.pkl\"\n",
    "transformer_path=\"/home/jayanthikishore/Downloads/models/transformer.pkl\"\n",
    "\n",
    "# we need to save both the transformer -> to encode a document and the model itself to make predictions based on the weight vectors \n",
    "pickle.dump(model,open(model_path, 'wb'))\n",
    "pickle.dump(transformer,open(transformer_path,'wb'))"
   ]
  },
  {
   "cell_type": "markdown",
   "metadata": {},
   "source": [
    "######  <span style=\"font-family: Arial; font-weight:bold;font-size:1.em;color:#120eea\">Use Loaded Model"
   ]
  },
  {
   "cell_type": "code",
   "execution_count": 33,
   "metadata": {},
   "outputs": [
    {
     "data": {
      "text/plain": [
       "[['POLITICS', 'THE WORLDPOST']]"
      ]
     },
     "execution_count": 33,
     "metadata": {},
     "output_type": "execute_result"
    }
   ],
   "source": [
    "loaded_model = pickle.load(open(model_path, 'rb'))\n",
    "loaded_transformer = pickle.load(open(transformer_path, 'rb'))\n",
    "\n",
    "\n",
    "test_features=loaded_transformer.transform([\"President Trump AND THE impeachment story !!!\"])\n",
    "get_top_k_predictions(loaded_model,test_features,2)\n"
   ]
  },
  {
   "cell_type": "code",
   "execution_count": null,
   "metadata": {},
   "outputs": [],
   "source": []
  }
 ],
 "metadata": {
  "kernelspec": {
   "display_name": "Python 3",
   "language": "python",
   "name": "python3"
  },
  "language_info": {
   "codemirror_mode": {
    "name": "ipython",
    "version": 3
   },
   "file_extension": ".py",
   "mimetype": "text/x-python",
   "name": "python",
   "nbconvert_exporter": "python",
   "pygments_lexer": "ipython3",
   "version": "3.8.3"
  }
 },
 "nbformat": 4,
 "nbformat_minor": 4
}
