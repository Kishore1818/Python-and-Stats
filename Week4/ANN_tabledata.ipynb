{
 "cells": [
  {
   "cell_type": "markdown",
   "metadata": {},
   "source": [
    "######  <span style=\"font-family: Arial; font-weight:bold;font-size:1.5em;color:#c3b235\">Artificial Neural Network (ANN)\n",
    "<font color=darkblue>\n",
    "    \n",
    "######  <span style=\"font-family: Arial; font-weight:bold;font-size:1.em;color:#d40eea\">Import Libraries\n",
    "<font color=darkblue>"
   ]
  },
  {
   "cell_type": "code",
   "execution_count": 1,
   "metadata": {},
   "outputs": [],
   "source": [
    "import numpy as np\n",
    "import matplotlib.pyplot as plt\n",
    "import pandas as pd\n",
    "\n",
    "import warnings\n",
    "warnings.filterwarnings(\"ignore\")"
   ]
  },
  {
   "cell_type": "markdown",
   "metadata": {},
   "source": [
    "######  <span style=\"font-family: Arial; font-weight:bold;font-size:1.em;color:#0eea3a\">Plot function\n",
    "<font color=darkblue>"
   ]
  },
  {
   "cell_type": "code",
   "execution_count": 30,
   "metadata": {},
   "outputs": [],
   "source": [
    "import matplotlib.pyplot as plt\n",
    "plt.style.use('ggplot')\n",
    "\n",
    "def plot_history(history):\n",
    "    acc = history.history['accuracy']\n",
    "    val_acc = history.history['val_accuracy']\n",
    "    loss = history.history['loss']\n",
    "    val_loss = history.history['val_loss']\n",
    "    x = range(1, len(acc) + 1)\n",
    "\n",
    "    plt.figure(figsize=(12, 5))\n",
    "    plt.subplot(1, 2, 1)\n",
    "    plt.plot(x, acc, 'b', label='Training acc')\n",
    "    plt.plot(x, val_acc, 'r', label='Validation acc')\n",
    "    plt.title('Training and validation accuracy')\n",
    "    plt.legend()\n",
    "    plt.subplot(1, 2, 2)\n",
    "    plt.plot(x, loss, 'b', label='Training loss')\n",
    "    plt.plot(x, val_loss, 'r', label='Validation loss')\n",
    "    plt.title('Training and validation loss')\n",
    "    plt.legend()\n"
   ]
  },
  {
   "cell_type": "markdown",
   "metadata": {},
   "source": [
    "######  <span style=\"font-family: Arial; font-weight:bold;font-size:1.em;color:#0e36ea\">Import dataset\n",
    "<font color=darkblue>"
   ]
  },
  {
   "cell_type": "code",
   "execution_count": 3,
   "metadata": {},
   "outputs": [
    {
     "data": {
      "text/html": [
       "<div>\n",
       "<style scoped>\n",
       "    .dataframe tbody tr th:only-of-type {\n",
       "        vertical-align: middle;\n",
       "    }\n",
       "\n",
       "    .dataframe tbody tr th {\n",
       "        vertical-align: top;\n",
       "    }\n",
       "\n",
       "    .dataframe thead th {\n",
       "        text-align: right;\n",
       "    }\n",
       "</style>\n",
       "<table border=\"1\" class=\"dataframe\">\n",
       "  <thead>\n",
       "    <tr style=\"text-align: right;\">\n",
       "      <th></th>\n",
       "      <th>RowNumber</th>\n",
       "      <th>CustomerId</th>\n",
       "      <th>Surname</th>\n",
       "      <th>CreditScore</th>\n",
       "      <th>Geography</th>\n",
       "      <th>Gender</th>\n",
       "      <th>Age</th>\n",
       "      <th>Tenure</th>\n",
       "      <th>Balance</th>\n",
       "      <th>NumOfProducts</th>\n",
       "      <th>HasCrCard</th>\n",
       "      <th>IsActiveMember</th>\n",
       "      <th>EstimatedSalary</th>\n",
       "      <th>Exited</th>\n",
       "    </tr>\n",
       "  </thead>\n",
       "  <tbody>\n",
       "    <tr>\n",
       "      <th>0</th>\n",
       "      <td>1</td>\n",
       "      <td>15634602</td>\n",
       "      <td>Hargrave</td>\n",
       "      <td>619</td>\n",
       "      <td>France</td>\n",
       "      <td>Female</td>\n",
       "      <td>42</td>\n",
       "      <td>2</td>\n",
       "      <td>0.00</td>\n",
       "      <td>1</td>\n",
       "      <td>1</td>\n",
       "      <td>1</td>\n",
       "      <td>101348.88</td>\n",
       "      <td>1</td>\n",
       "    </tr>\n",
       "    <tr>\n",
       "      <th>1</th>\n",
       "      <td>2</td>\n",
       "      <td>15647311</td>\n",
       "      <td>Hill</td>\n",
       "      <td>608</td>\n",
       "      <td>Spain</td>\n",
       "      <td>Female</td>\n",
       "      <td>41</td>\n",
       "      <td>1</td>\n",
       "      <td>83807.86</td>\n",
       "      <td>1</td>\n",
       "      <td>0</td>\n",
       "      <td>1</td>\n",
       "      <td>112542.58</td>\n",
       "      <td>0</td>\n",
       "    </tr>\n",
       "    <tr>\n",
       "      <th>2</th>\n",
       "      <td>3</td>\n",
       "      <td>15619304</td>\n",
       "      <td>Onio</td>\n",
       "      <td>502</td>\n",
       "      <td>France</td>\n",
       "      <td>Female</td>\n",
       "      <td>42</td>\n",
       "      <td>8</td>\n",
       "      <td>159660.80</td>\n",
       "      <td>3</td>\n",
       "      <td>1</td>\n",
       "      <td>0</td>\n",
       "      <td>113931.57</td>\n",
       "      <td>1</td>\n",
       "    </tr>\n",
       "    <tr>\n",
       "      <th>3</th>\n",
       "      <td>4</td>\n",
       "      <td>15701354</td>\n",
       "      <td>Boni</td>\n",
       "      <td>699</td>\n",
       "      <td>France</td>\n",
       "      <td>Female</td>\n",
       "      <td>39</td>\n",
       "      <td>1</td>\n",
       "      <td>0.00</td>\n",
       "      <td>2</td>\n",
       "      <td>0</td>\n",
       "      <td>0</td>\n",
       "      <td>93826.63</td>\n",
       "      <td>0</td>\n",
       "    </tr>\n",
       "    <tr>\n",
       "      <th>4</th>\n",
       "      <td>5</td>\n",
       "      <td>15737888</td>\n",
       "      <td>Mitchell</td>\n",
       "      <td>850</td>\n",
       "      <td>Spain</td>\n",
       "      <td>Female</td>\n",
       "      <td>43</td>\n",
       "      <td>2</td>\n",
       "      <td>125510.82</td>\n",
       "      <td>1</td>\n",
       "      <td>1</td>\n",
       "      <td>1</td>\n",
       "      <td>79084.10</td>\n",
       "      <td>0</td>\n",
       "    </tr>\n",
       "  </tbody>\n",
       "</table>\n",
       "</div>"
      ],
      "text/plain": [
       "   RowNumber  CustomerId   Surname  CreditScore Geography  Gender  Age  \\\n",
       "0          1    15634602  Hargrave          619    France  Female   42   \n",
       "1          2    15647311      Hill          608     Spain  Female   41   \n",
       "2          3    15619304      Onio          502    France  Female   42   \n",
       "3          4    15701354      Boni          699    France  Female   39   \n",
       "4          5    15737888  Mitchell          850     Spain  Female   43   \n",
       "\n",
       "   Tenure    Balance  NumOfProducts  HasCrCard  IsActiveMember  \\\n",
       "0       2       0.00              1          1               1   \n",
       "1       1   83807.86              1          0               1   \n",
       "2       8  159660.80              3          1               0   \n",
       "3       1       0.00              2          0               0   \n",
       "4       2  125510.82              1          1               1   \n",
       "\n",
       "   EstimatedSalary  Exited  \n",
       "0        101348.88       1  \n",
       "1        112542.58       0  \n",
       "2        113931.57       1  \n",
       "3         93826.63       0  \n",
       "4         79084.10       0  "
      ]
     },
     "execution_count": 3,
     "metadata": {},
     "output_type": "execute_result"
    }
   ],
   "source": [
    "dataset = pd.read_csv('/Users/preethamvignesh/Downloads/ANN_model/Churn_Modelling.csv')\n",
    "dataset.head()"
   ]
  },
  {
   "cell_type": "markdown",
   "metadata": {},
   "source": [
    "######  <span style=\"font-family: Arial; font-weight:bold;font-size:1.em;color:#0e36ea\">Separating Dependent and Independent variables\n",
    "<font color=darkblue>"
   ]
  },
  {
   "cell_type": "code",
   "execution_count": 4,
   "metadata": {},
   "outputs": [],
   "source": [
    "X = dataset.iloc[:, 3:13].values\n",
    "y = dataset.iloc[:, 13].values\n"
   ]
  },
  {
   "cell_type": "markdown",
   "metadata": {},
   "source": [
    "######  <span style=\"font-family: Arial; font-weight:bold;font-size:1.em;color:#ea0ebe\">Encoding categorical data\n",
    "<font color=darkblue>"
   ]
  },
  {
   "cell_type": "code",
   "execution_count": 5,
   "metadata": {},
   "outputs": [],
   "source": [
    "# Encoding categorical data\n",
    "from sklearn.preprocessing import LabelEncoder, OneHotEncoder\n",
    "from sklearn.compose import ColumnTransformer\n",
    "\n",
    "#encoding 'Geography' to number\n",
    "labelencoder_X1 = LabelEncoder()\n",
    "X[:, 1] = labelencoder_X1.fit_transform(X[:, 1])\n",
    "\n",
    "#encoding 'Gender' to numbers\n",
    "labelencoder_X2 = LabelEncoder()\n",
    "X[:, 2] = labelencoder_X2.fit_transform(X[:, 2])\n",
    "\n",
    "#encoding 'Geography' to one hot\n",
    "ct = ColumnTransformer([(\"Geography\", OneHotEncoder(), [1])], remainder = 'passthrough')\n",
    "# onehotencoder = OneHotEncoder(categorical_features = [1])\n",
    "X = ct.fit_transform(X)\n",
    "\n",
    "# get rid of dummy variable trap\n",
    "X = X[:, 1:]\n"
   ]
  },
  {
   "cell_type": "markdown",
   "metadata": {},
   "source": [
    "######  <span style=\"font-family: Arial; font-weight:bold;font-size:1.em;color:#ea0ebe\">Feature scaling\n",
    "<font color=darkblue>"
   ]
  },
  {
   "cell_type": "code",
   "execution_count": 6,
   "metadata": {},
   "outputs": [],
   "source": [
    "# Feature Scaling\n",
    "from sklearn.preprocessing import StandardScaler\n",
    "sc = StandardScaler()\n",
    "X = sc.fit_transform(X)"
   ]
  },
  {
   "cell_type": "code",
   "execution_count": 7,
   "metadata": {},
   "outputs": [],
   "source": [
    "from sklearn.preprocessing import MinMaxScaler\n",
    "scalar = MinMaxScaler()\n",
    "X= scalar.fit_transform(X)"
   ]
  },
  {
   "cell_type": "markdown",
   "metadata": {},
   "source": [
    "######  <span style=\"font-family: Arial; font-weight:bold;font-size:1.em;color:#ea540e\">Split Train and Test set \n",
    "<font color=darkblue>"
   ]
  },
  {
   "cell_type": "code",
   "execution_count": 8,
   "metadata": {},
   "outputs": [],
   "source": [
    "# Splitting the dataset into the Training set and Test set\n",
    "from sklearn.model_selection import train_test_split\n",
    "from sklearn.metrics import confusion_matrix, accuracy_score\n",
    "X_train, X_test, y_train, y_test = train_test_split(X, y, test_size = 0.2)"
   ]
  },
  {
   "cell_type": "markdown",
   "metadata": {},
   "source": [
    "######  <span style=\"font-family: Arial; font-weight:bold;font-size:1.em;color:#ea540e\">Model preparation with layers\n",
    "<font color=darkblue>"
   ]
  },
  {
   "cell_type": "code",
   "execution_count": 9,
   "metadata": {},
   "outputs": [],
   "source": [
    "from keras.models import Sequential\n",
    "from keras.layers import Dense\n",
    "from keras.layers import Dropout\n",
    "\n",
    "model = Sequential()\n",
    "# Adding the input layer and the first hidden layer with dropout\n",
    "model.add(Dense(units = 22, activation='relu', input_dim = 11)) # Input layer and first hidden layer\n",
    "# when we assing `input_dim = 11`, we actually creating input layer\n",
    "# model.add(Dropout(p=0.1))\n",
    "\n",
    "# Adding the second hidden layer with dropout\n",
    "# doesn't need the input_dim params\n",
    "# kernel_initializer updates weights\n",
    "# activation function - rectifier\n",
    "model.add(Dense(units = 22, activation='relu')) # Second hidden layer\n",
    "# model.add(Dropout(p=0.1))\n",
    "\n",
    "# Adding the output layer\n",
    "# dependent variable with more than two categories (3), output_dim needs to change (e.g. 3), activation function - sufmax\n",
    "model.add(Dense(1, kernel_initializer = 'glorot_uniform', activation = 'sigmoid' ))\n",
    "model.add(Dense(units = 1, activation='sigmoid')) # Output layer\n",
    "\n",
    "# Compiling the ANN - applying Stochastic Gradient Descent to whole ANN\n",
    "# Several different SGD algorithms\n",
    "# mathematical details based on the loss function\n",
    "# binary_crossentropy, categorical_cross_entropy\n",
    "model.compile(loss = 'binary_crossentropy', optimizer='adam', metrics = ['accuracy'])"
   ]
  },
  {
   "cell_type": "code",
   "execution_count": 10,
   "metadata": {},
   "outputs": [
    {
     "name": "stdout",
     "output_type": "stream",
     "text": [
      "Model: \"sequential\"\n",
      "_________________________________________________________________\n",
      "Layer (type)                 Output Shape              Param #   \n",
      "=================================================================\n",
      "dense (Dense)                (None, 22)                264       \n",
      "_________________________________________________________________\n",
      "dense_1 (Dense)              (None, 22)                506       \n",
      "_________________________________________________________________\n",
      "dense_2 (Dense)              (None, 1)                 23        \n",
      "_________________________________________________________________\n",
      "dense_3 (Dense)              (None, 1)                 2         \n",
      "=================================================================\n",
      "Total params: 795\n",
      "Trainable params: 795\n",
      "Non-trainable params: 0\n",
      "_________________________________________________________________\n"
     ]
    }
   ],
   "source": [
    "model.summary()"
   ]
  },
  {
   "cell_type": "markdown",
   "metadata": {},
   "source": [
    "######  <span style=\"font-family: Arial; font-weight:bold;font-size:1.em;color:#ea540e\">Fitting Model \n",
    "<font color=darkblue>"
   ]
  },
  {
   "cell_type": "code",
   "execution_count": 11,
   "metadata": {},
   "outputs": [
    {
     "name": "stdout",
     "output_type": "stream",
     "text": [
      "Epoch 1/100\n",
      "320/320 [==============================] - 1s 1ms/step - loss: 0.6082 - accuracy: 0.7979\n",
      "Epoch 2/100\n",
      "320/320 [==============================] - 0s 1ms/step - loss: 0.5233 - accuracy: 0.8000\n",
      "Epoch 3/100\n",
      "320/320 [==============================] - 0s 1ms/step - loss: 0.5012 - accuracy: 0.8030\n",
      "Epoch 4/100\n",
      "320/320 [==============================] - 0s 1ms/step - loss: 0.4898 - accuracy: 0.7935\n",
      "Epoch 5/100\n",
      "320/320 [==============================] - 0s 1ms/step - loss: 0.4699 - accuracy: 0.7944\n",
      "Epoch 6/100\n",
      "320/320 [==============================] - 0s 976us/step - loss: 0.4561 - accuracy: 0.7991\n",
      "Epoch 7/100\n",
      "320/320 [==============================] - 0s 1ms/step - loss: 0.4418 - accuracy: 0.8067\n",
      "Epoch 8/100\n",
      "320/320 [==============================] - 0s 1ms/step - loss: 0.4428 - accuracy: 0.8002\n",
      "Epoch 9/100\n",
      "320/320 [==============================] - 0s 1ms/step - loss: 0.4451 - accuracy: 0.7959\n",
      "Epoch 10/100\n",
      "320/320 [==============================] - 0s 1ms/step - loss: 0.4338 - accuracy: 0.8011\n",
      "Epoch 11/100\n",
      "320/320 [==============================] - 0s 1ms/step - loss: 0.4236 - accuracy: 0.8064\n",
      "Epoch 12/100\n",
      "320/320 [==============================] - 0s 994us/step - loss: 0.4329 - accuracy: 0.7980\n",
      "Epoch 13/100\n",
      "320/320 [==============================] - 0s 1ms/step - loss: 0.4301 - accuracy: 0.7955\n",
      "Epoch 14/100\n",
      "320/320 [==============================] - 0s 1ms/step - loss: 0.4144 - accuracy: 0.8048\n",
      "Epoch 15/100\n",
      "320/320 [==============================] - 0s 1ms/step - loss: 0.4164 - accuracy: 0.7949\n",
      "Epoch 16/100\n",
      "320/320 [==============================] - 0s 1ms/step - loss: 0.4118 - accuracy: 0.8038\n",
      "Epoch 17/100\n",
      "320/320 [==============================] - 0s 1ms/step - loss: 0.3964 - accuracy: 0.7998\n",
      "Epoch 18/100\n",
      "320/320 [==============================] - 0s 1ms/step - loss: 0.4018 - accuracy: 0.7955\n",
      "Epoch 19/100\n",
      "320/320 [==============================] - 0s 1ms/step - loss: 0.3858 - accuracy: 0.8026\n",
      "Epoch 20/100\n",
      "320/320 [==============================] - 0s 1ms/step - loss: 0.3934 - accuracy: 0.7957\n",
      "Epoch 21/100\n",
      "320/320 [==============================] - 0s 1ms/step - loss: 0.3859 - accuracy: 0.7953\n",
      "Epoch 22/100\n",
      "320/320 [==============================] - 0s 1ms/step - loss: 0.3863 - accuracy: 0.8002\n",
      "Epoch 23/100\n",
      "320/320 [==============================] - 0s 1ms/step - loss: 0.3877 - accuracy: 0.8283\n",
      "Epoch 24/100\n",
      "320/320 [==============================] - 0s 1ms/step - loss: 0.3813 - accuracy: 0.8372\n",
      "Epoch 25/100\n",
      "320/320 [==============================] - 0s 1ms/step - loss: 0.3766 - accuracy: 0.8434\n",
      "Epoch 26/100\n",
      "320/320 [==============================] - 0s 1ms/step - loss: 0.3767 - accuracy: 0.8415\n",
      "Epoch 27/100\n",
      "320/320 [==============================] - 0s 1ms/step - loss: 0.3712 - accuracy: 0.8517\n",
      "Epoch 28/100\n",
      "320/320 [==============================] - 0s 1ms/step - loss: 0.3847 - accuracy: 0.8405\n",
      "Epoch 29/100\n",
      "320/320 [==============================] - 0s 1ms/step - loss: 0.3728 - accuracy: 0.8411\n",
      "Epoch 30/100\n",
      "320/320 [==============================] - 0s 1ms/step - loss: 0.3809 - accuracy: 0.8395\n",
      "Epoch 31/100\n",
      "320/320 [==============================] - 0s 1ms/step - loss: 0.3825 - accuracy: 0.8402\n",
      "Epoch 32/100\n",
      "320/320 [==============================] - 0s 1ms/step - loss: 0.3669 - accuracy: 0.8516: 0s - loss: 0.3590 - accu\n",
      "Epoch 33/100\n",
      "320/320 [==============================] - 0s 1ms/step - loss: 0.3646 - accuracy: 0.8504\n",
      "Epoch 34/100\n",
      "320/320 [==============================] - 0s 1ms/step - loss: 0.3633 - accuracy: 0.8501\n",
      "Epoch 35/100\n",
      "320/320 [==============================] - 0s 1ms/step - loss: 0.3696 - accuracy: 0.8527\n",
      "Epoch 36/100\n",
      "320/320 [==============================] - 0s 1ms/step - loss: 0.3718 - accuracy: 0.8458\n",
      "Epoch 37/100\n",
      "320/320 [==============================] - 0s 1ms/step - loss: 0.3649 - accuracy: 0.8518\n",
      "Epoch 38/100\n",
      "320/320 [==============================] - 0s 1ms/step - loss: 0.3609 - accuracy: 0.8565\n",
      "Epoch 39/100\n",
      "320/320 [==============================] - 0s 1ms/step - loss: 0.3630 - accuracy: 0.8508\n",
      "Epoch 40/100\n",
      "320/320 [==============================] - 0s 1ms/step - loss: 0.3628 - accuracy: 0.8522\n",
      "Epoch 41/100\n",
      "320/320 [==============================] - 0s 1ms/step - loss: 0.3627 - accuracy: 0.8529\n",
      "Epoch 42/100\n",
      "320/320 [==============================] - 0s 1ms/step - loss: 0.3505 - accuracy: 0.8595\n",
      "Epoch 43/100\n",
      "320/320 [==============================] - 0s 1ms/step - loss: 0.3578 - accuracy: 0.8517\n",
      "Epoch 44/100\n",
      "320/320 [==============================] - 0s 1ms/step - loss: 0.3541 - accuracy: 0.8597\n",
      "Epoch 45/100\n",
      "320/320 [==============================] - 0s 1ms/step - loss: 0.3588 - accuracy: 0.8539\n",
      "Epoch 46/100\n",
      "320/320 [==============================] - 0s 1ms/step - loss: 0.3583 - accuracy: 0.8570\n",
      "Epoch 47/100\n",
      "320/320 [==============================] - 0s 1ms/step - loss: 0.3536 - accuracy: 0.8564\n",
      "Epoch 48/100\n",
      "320/320 [==============================] - 0s 1ms/step - loss: 0.3573 - accuracy: 0.8557\n",
      "Epoch 49/100\n",
      "320/320 [==============================] - 0s 1ms/step - loss: 0.3602 - accuracy: 0.8567\n",
      "Epoch 50/100\n",
      "320/320 [==============================] - 0s 1ms/step - loss: 0.3560 - accuracy: 0.8595\n",
      "Epoch 51/100\n",
      "320/320 [==============================] - 0s 1ms/step - loss: 0.3448 - accuracy: 0.8630\n",
      "Epoch 52/100\n",
      "320/320 [==============================] - 0s 1ms/step - loss: 0.3531 - accuracy: 0.8571\n",
      "Epoch 53/100\n",
      "320/320 [==============================] - 0s 1ms/step - loss: 0.3440 - accuracy: 0.8609\n",
      "Epoch 54/100\n",
      "320/320 [==============================] - 0s 1ms/step - loss: 0.3573 - accuracy: 0.8544\n",
      "Epoch 55/100\n",
      "320/320 [==============================] - 0s 1ms/step - loss: 0.3511 - accuracy: 0.8632\n",
      "Epoch 56/100\n",
      "320/320 [==============================] - 0s 1ms/step - loss: 0.3559 - accuracy: 0.8570\n",
      "Epoch 57/100\n",
      "320/320 [==============================] - 0s 1ms/step - loss: 0.3558 - accuracy: 0.8566\n",
      "Epoch 58/100\n",
      "320/320 [==============================] - 0s 1ms/step - loss: 0.3501 - accuracy: 0.8595\n",
      "Epoch 59/100\n",
      "320/320 [==============================] - 0s 1ms/step - loss: 0.3519 - accuracy: 0.8610\n",
      "Epoch 60/100\n",
      "320/320 [==============================] - 0s 1ms/step - loss: 0.3525 - accuracy: 0.8619\n",
      "Epoch 61/100\n",
      "320/320 [==============================] - 0s 1ms/step - loss: 0.3575 - accuracy: 0.8568\n",
      "Epoch 62/100\n",
      "320/320 [==============================] - 0s 1ms/step - loss: 0.3433 - accuracy: 0.8624\n",
      "Epoch 63/100\n",
      "320/320 [==============================] - 0s 1ms/step - loss: 0.3480 - accuracy: 0.8621\n",
      "Epoch 64/100\n",
      "320/320 [==============================] - 0s 1ms/step - loss: 0.3416 - accuracy: 0.8587\n",
      "Epoch 65/100\n",
      "320/320 [==============================] - 0s 1ms/step - loss: 0.3514 - accuracy: 0.8584\n",
      "Epoch 66/100\n",
      "320/320 [==============================] - 0s 1ms/step - loss: 0.3483 - accuracy: 0.8630\n",
      "Epoch 67/100\n",
      "320/320 [==============================] - 0s 1ms/step - loss: 0.3512 - accuracy: 0.8568\n",
      "Epoch 68/100\n",
      "320/320 [==============================] - 0s 1ms/step - loss: 0.3516 - accuracy: 0.8573\n",
      "Epoch 69/100\n",
      "320/320 [==============================] - 0s 1ms/step - loss: 0.3426 - accuracy: 0.8604\n",
      "Epoch 70/100\n",
      "320/320 [==============================] - 0s 1ms/step - loss: 0.3519 - accuracy: 0.8580\n",
      "Epoch 71/100\n",
      "320/320 [==============================] - 0s 1ms/step - loss: 0.3425 - accuracy: 0.8604\n",
      "Epoch 72/100\n",
      "320/320 [==============================] - 0s 1ms/step - loss: 0.3391 - accuracy: 0.8641\n",
      "Epoch 73/100\n",
      "320/320 [==============================] - 0s 1ms/step - loss: 0.3436 - accuracy: 0.8599\n",
      "Epoch 74/100\n",
      "320/320 [==============================] - 0s 1ms/step - loss: 0.3455 - accuracy: 0.8613\n",
      "Epoch 75/100\n",
      "320/320 [==============================] - 0s 1ms/step - loss: 0.3446 - accuracy: 0.8627\n",
      "Epoch 76/100\n",
      "320/320 [==============================] - 0s 1ms/step - loss: 0.3403 - accuracy: 0.8634\n",
      "Epoch 77/100\n",
      "320/320 [==============================] - 0s 1ms/step - loss: 0.3367 - accuracy: 0.8654\n",
      "Epoch 78/100\n",
      "320/320 [==============================] - 0s 1ms/step - loss: 0.3407 - accuracy: 0.8639\n",
      "Epoch 79/100\n",
      "320/320 [==============================] - 0s 1ms/step - loss: 0.3345 - accuracy: 0.8653\n",
      "Epoch 80/100\n",
      "320/320 [==============================] - 0s 1ms/step - loss: 0.3428 - accuracy: 0.8624\n",
      "Epoch 81/100\n"
     ]
    },
    {
     "name": "stdout",
     "output_type": "stream",
     "text": [
      "320/320 [==============================] - 0s 1ms/step - loss: 0.3353 - accuracy: 0.8651\n",
      "Epoch 82/100\n",
      "320/320 [==============================] - 0s 1ms/step - loss: 0.3395 - accuracy: 0.8630\n",
      "Epoch 83/100\n",
      "320/320 [==============================] - 0s 1ms/step - loss: 0.3509 - accuracy: 0.8582\n",
      "Epoch 84/100\n",
      "320/320 [==============================] - 0s 1ms/step - loss: 0.3422 - accuracy: 0.8625\n",
      "Epoch 85/100\n",
      "320/320 [==============================] - 0s 1ms/step - loss: 0.3509 - accuracy: 0.8633\n",
      "Epoch 86/100\n",
      "320/320 [==============================] - 0s 1ms/step - loss: 0.3443 - accuracy: 0.8650\n",
      "Epoch 87/100\n",
      "320/320 [==============================] - 0s 1ms/step - loss: 0.3327 - accuracy: 0.8644\n",
      "Epoch 88/100\n",
      "320/320 [==============================] - 0s 1ms/step - loss: 0.3512 - accuracy: 0.8586\n",
      "Epoch 89/100\n",
      "320/320 [==============================] - 0s 1ms/step - loss: 0.3375 - accuracy: 0.8661\n",
      "Epoch 90/100\n",
      "320/320 [==============================] - 0s 1ms/step - loss: 0.3360 - accuracy: 0.8640\n",
      "Epoch 91/100\n",
      "320/320 [==============================] - 0s 1ms/step - loss: 0.3316 - accuracy: 0.8635\n",
      "Epoch 92/100\n",
      "320/320 [==============================] - 0s 1ms/step - loss: 0.3464 - accuracy: 0.8645\n",
      "Epoch 93/100\n",
      "320/320 [==============================] - 0s 1ms/step - loss: 0.3338 - accuracy: 0.8650\n",
      "Epoch 94/100\n",
      "320/320 [==============================] - 0s 1ms/step - loss: 0.3277 - accuracy: 0.8673\n",
      "Epoch 95/100\n",
      "320/320 [==============================] - 0s 1ms/step - loss: 0.3449 - accuracy: 0.8605\n",
      "Epoch 96/100\n",
      "320/320 [==============================] - 0s 1ms/step - loss: 0.3407 - accuracy: 0.8606\n",
      "Epoch 97/100\n",
      "320/320 [==============================] - 0s 1ms/step - loss: 0.3301 - accuracy: 0.8666\n",
      "Epoch 98/100\n",
      "320/320 [==============================] - 0s 1ms/step - loss: 0.3325 - accuracy: 0.8687\n",
      "Epoch 99/100\n",
      "320/320 [==============================] - 0s 1ms/step - loss: 0.3341 - accuracy: 0.8590\n",
      "Epoch 100/100\n",
      "320/320 [==============================] - 0s 1ms/step - loss: 0.3365 - accuracy: 0.8625\n"
     ]
    },
    {
     "data": {
      "text/plain": [
       "<tensorflow.python.keras.callbacks.History at 0x13c021880>"
      ]
     },
     "execution_count": 11,
     "metadata": {},
     "output_type": "execute_result"
    }
   ],
   "source": [
    "# Fitting fully connnected NN to the Training set\n",
    "model.fit(X_train, y_train, batch_size = 25, epochs = 100)"
   ]
  },
  {
   "cell_type": "markdown",
   "metadata": {},
   "source": [
    "######  <span style=\"font-family: Arial; font-weight:bold;font-size:1.em;color:#ea540e\">Model Evaluate \n",
    "<font color=darkblue>"
   ]
  },
  {
   "cell_type": "code",
   "execution_count": 12,
   "metadata": {},
   "outputs": [
    {
     "name": "stdout",
     "output_type": "stream",
     "text": [
      "63/63 [==============================] - 0s 991us/step - loss: 0.3506 - accuracy: 0.8530\n"
     ]
    },
    {
     "data": {
      "text/plain": [
       "[0.35060611367225647, 0.8529999852180481]"
      ]
     },
     "execution_count": 12,
     "metadata": {},
     "output_type": "execute_result"
    }
   ],
   "source": [
    "model.evaluate(X_test,y_test)"
   ]
  },
  {
   "cell_type": "code",
   "execution_count": 13,
   "metadata": {},
   "outputs": [],
   "source": [
    "# Predicting on the Test set\n",
    "y_pred = model.predict(X_test)\n",
    "y_pred = (y_pred > 0.5)"
   ]
  },
  {
   "cell_type": "code",
   "execution_count": 14,
   "metadata": {},
   "outputs": [
    {
     "data": {
      "text/plain": [
       "array([[1490,   86],\n",
       "       [ 208,  216]])"
      ]
     },
     "execution_count": 14,
     "metadata": {},
     "output_type": "execute_result"
    }
   ],
   "source": [
    "# Get acurracy on Test set\n",
    "from sklearn.metrics import confusion_matrix\n",
    "cm_test = confusion_matrix(y_test, y_pred)\n",
    "cm_test"
   ]
  },
  {
   "cell_type": "code",
   "execution_count": 31,
   "metadata": {},
   "outputs": [
    {
     "name": "stdout",
     "output_type": "stream",
     "text": [
      "Epoch 1/20\n",
      "154/154 [==============================] - 0s 2ms/step - loss: 0.3197 - accuracy: 0.8727 - val_loss: 0.3521 - val_accuracy: 0.8465\n",
      "Epoch 2/20\n",
      "154/154 [==============================] - 0s 2ms/step - loss: 0.3175 - accuracy: 0.8725 - val_loss: 0.3513 - val_accuracy: 0.8540\n",
      "Epoch 3/20\n",
      "154/154 [==============================] - 0s 2ms/step - loss: 0.3201 - accuracy: 0.8735 - val_loss: 0.3490 - val_accuracy: 0.8525\n",
      "Epoch 4/20\n",
      "154/154 [==============================] - 0s 2ms/step - loss: 0.3178 - accuracy: 0.8730 - val_loss: 0.3488 - val_accuracy: 0.8530\n",
      "Epoch 5/20\n",
      "154/154 [==============================] - 0s 2ms/step - loss: 0.3168 - accuracy: 0.8731 - val_loss: 0.3504 - val_accuracy: 0.8540\n",
      "Epoch 6/20\n",
      "154/154 [==============================] - 0s 2ms/step - loss: 0.3170 - accuracy: 0.8711 - val_loss: 0.3464 - val_accuracy: 0.8545\n",
      "Epoch 7/20\n",
      "154/154 [==============================] - 0s 2ms/step - loss: 0.3173 - accuracy: 0.8745 - val_loss: 0.3470 - val_accuracy: 0.8535\n",
      "Epoch 8/20\n",
      "154/154 [==============================] - 0s 2ms/step - loss: 0.3172 - accuracy: 0.8739 - val_loss: 0.3509 - val_accuracy: 0.8545\n",
      "Epoch 9/20\n",
      "154/154 [==============================] - 0s 2ms/step - loss: 0.3176 - accuracy: 0.8726 - val_loss: 0.3541 - val_accuracy: 0.8490\n",
      "Epoch 10/20\n",
      "154/154 [==============================] - 0s 2ms/step - loss: 0.3171 - accuracy: 0.8742 - val_loss: 0.3473 - val_accuracy: 0.8505\n",
      "Epoch 11/20\n",
      "154/154 [==============================] - 0s 2ms/step - loss: 0.3168 - accuracy: 0.8729 - val_loss: 0.3515 - val_accuracy: 0.8500\n",
      "Epoch 12/20\n",
      "154/154 [==============================] - 0s 2ms/step - loss: 0.3192 - accuracy: 0.8715 - val_loss: 0.3486 - val_accuracy: 0.8540\n",
      "Epoch 13/20\n",
      "154/154 [==============================] - 0s 2ms/step - loss: 0.3171 - accuracy: 0.8741 - val_loss: 0.3506 - val_accuracy: 0.8555\n",
      "Epoch 14/20\n",
      "154/154 [==============================] - 0s 2ms/step - loss: 0.3170 - accuracy: 0.8734 - val_loss: 0.3478 - val_accuracy: 0.8540\n",
      "Epoch 15/20\n",
      "154/154 [==============================] - 0s 2ms/step - loss: 0.3170 - accuracy: 0.8730 - val_loss: 0.3510 - val_accuracy: 0.8540\n",
      "Epoch 16/20\n",
      "154/154 [==============================] - 0s 2ms/step - loss: 0.3171 - accuracy: 0.8746 - val_loss: 0.3481 - val_accuracy: 0.8530\n",
      "Epoch 17/20\n",
      "154/154 [==============================] - 0s 2ms/step - loss: 0.3172 - accuracy: 0.8736 - val_loss: 0.3511 - val_accuracy: 0.8530\n",
      "Epoch 18/20\n",
      "154/154 [==============================] - 0s 2ms/step - loss: 0.3166 - accuracy: 0.8733 - val_loss: 0.3483 - val_accuracy: 0.8475\n",
      "Epoch 19/20\n",
      "154/154 [==============================] - 0s 2ms/step - loss: 0.3166 - accuracy: 0.8741 - val_loss: 0.3480 - val_accuracy: 0.8510\n",
      "Epoch 20/20\n",
      "154/154 [==============================] - 0s 2ms/step - loss: 0.3171 - accuracy: 0.8739 - val_loss: 0.3473 - val_accuracy: 0.8545\n",
      "Training Accuracy: 0.8773\n",
      "Testing Accuracy:  0.8545\n"
     ]
    },
    {
     "data": {
      "image/png": "[encoded data removed]",
      "text/plain": [
       "<Figure size 864x360 with 2 Axes>"
      ]
     },
     "metadata": {},
     "output_type": "display_data"
    }
   ],
   "source": [
    "history = model.fit(X_train, y_train,\n",
    "                    epochs=20,\n",
    "                    verbose=True,\n",
    "                    validation_data=(X_test, y_test),\n",
    "                    batch_size=52)\n",
    "\n",
    "loss, accuracy = model.evaluate(X_train, y_train, verbose=False)\n",
    "print(\"Training Accuracy: {:.4f}\".format(accuracy))\n",
    "loss, accuracy = model.evaluate(X_test, y_test, verbose=False)\n",
    "print(\"Testing Accuracy:  {:.4f}\".format(accuracy))\n",
    "plot_history(history)"
   ]
  },
  {
   "cell_type": "code",
   "execution_count": 21,
   "metadata": {},
   "outputs": [
    {
     "name": "stdout",
     "output_type": "stream",
     "text": [
      "Confusion matrix:\n",
      "[[1540   36]\n",
      " [ 251  173]]\n",
      "Accuracy: 85.65%\n"
     ]
    }
   ],
   "source": [
    "y_pred = model.predict(X_test)\n",
    "y_pred = y_pred > 0.5\n",
    "\n",
    "con_res = confusion_matrix(y_test, y_pred)\n",
    "print(\"Confusion matrix:\")\n",
    "print(confusion_matrix(y_test,y_pred))\n",
    "print(\"Accuracy: {:.2f}%\".format(accuracy_score(y_test, y_pred)*100))\n",
    "\n"
   ]
  },
  {
   "cell_type": "markdown",
   "metadata": {},
   "source": [
    "######  <span style=\"font-family: Arial; font-weight:bold;font-size:1.em;color:#ea540e\">Metrix: Confusion Matrix \n",
    "<font color=darkblue>"
   ]
  },
  {
   "cell_type": "code",
   "execution_count": 17,
   "metadata": {},
   "outputs": [
    {
     "data": {
      "image/png": "[encoded data removed]",
      "text/plain": [
       "<Figure size 576x576 with 1 Axes>"
      ]
     },
     "metadata": {},
     "output_type": "display_data"
    }
   ],
   "source": [
    "%run -i 'confusion_matrix_different_ways.py'\n",
    "df_confmatrx = pd.DataFrame(con_res, range(2),range(2))\n",
    "df_confmatrx\n",
    "cmap = 'PuRd'\n",
    "confusion_matrix_dfrntway(df_confmatrx, cmap=cmap,fz=17)"
   ]
  },
  {
   "cell_type": "markdown",
   "metadata": {},
   "source": [
    "######  <span style=\"font-family: Arial; font-weight:bold;font-size:1.em;color:#ea540e\">Predicting single observation \n",
    "<font color=darkblue>"
   ]
  },
  {
   "cell_type": "code",
   "execution_count": 18,
   "metadata": {},
   "outputs": [
    {
     "name": "stdout",
     "output_type": "stream",
     "text": [
      "[[False]]\n"
     ]
    }
   ],
   "source": [
    "#  Predicting a single new observation\n",
    "new_prediction = model.predict(sc.transform(np.array([[0, 0, 600, 1, 40, 3, 60000, 2, 1, 1, 50000]])))\n",
    "new_prediction = (new_prediction > 0.5)\n",
    "print(new_prediction)"
   ]
  },
  {
   "cell_type": "code",
   "execution_count": null,
   "metadata": {},
   "outputs": [],
   "source": []
  },
  {
   "cell_type": "code",
   "execution_count": null,
   "metadata": {},
   "outputs": [],
   "source": []
  }
 ],
 "metadata": {
  "kernelspec": {
   "display_name": "Python 3",
   "language": "python",
   "name": "python3"
  },
  "language_info": {
   "codemirror_mode": {
    "name": "ipython",
    "version": 3
   },
   "file_extension": ".py",
   "mimetype": "text/x-python",
   "name": "python",
   "nbconvert_exporter": "python",
   "pygments_lexer": "ipython3",
   "version": "3.8.5"
  }
 },
 "nbformat": 4,
 "nbformat_minor": 4
}
