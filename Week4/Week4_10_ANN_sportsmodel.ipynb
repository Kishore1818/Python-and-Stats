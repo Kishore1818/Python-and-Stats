{
 "cells": [
  {
   "cell_type": "markdown",
   "metadata": {},
   "source": [
    "#### Artificial Neural Network (ANN): Classification\n",
    "\n",
    "-  In this model, the intention is a person is sports person or not.\n",
    "-  _This model is simple and predicted well._"
   ]
  },
  {
   "cell_type": "markdown",
   "metadata": {},
   "source": [
    "- __Import Libraries__"
   ]
  },
  {
   "cell_type": "code",
   "execution_count": 1,
   "metadata": {},
   "outputs": [],
   "source": [
    "import pandas as pd\n",
    "import numpy as np\n",
    "import matplotlib.pyplot as plt\n",
    "import seaborn as sns\n",
    "import tensorflow as tf\n",
    "\n",
    "from sklearn.model_selection import train_test_split\n",
    "from sklearn.metrics import confusion_matrix, accuracy_score\n",
    "\n",
    "import tensorflow_hub as hub\n",
    "import tensorflow_datasets as tfds\n",
    "from tensorflow.keras.layers import Activation, Dense, Embedding\n",
    "from tensorflow.keras.optimizers import Adam\n",
    "from tensorflow.keras.preprocessing.text import Tokenizer\n",
    "from tensorflow.keras.preprocessing.sequence import pad_sequences\n",
    "from tensorflow.keras import Model, Sequential\n",
    "from tensorflow.keras.layers.experimental.preprocessing import TextVectorization\n",
    "\n",
    "import re\n",
    "import nltk\n",
    "import string\n",
    "from nltk.stem import WordNetLemmatizer\n",
    "from nltk.corpus import stopwords\n",
    "\n",
    "import warnings\n",
    "warnings.filterwarnings(\"ignore\")"
   ]
  },
  {
   "cell_type": "markdown",
   "metadata": {},
   "source": [
    "- __Downloading packages__"
   ]
  },
  {
   "cell_type": "code",
   "execution_count": 2,
   "metadata": {},
   "outputs": [
    {
     "name": "stderr",
     "output_type": "stream",
     "text": [
      "[nltk_data] Downloading package stopwords to\n",
      "[nltk_data]     /Users/preethamvignesh/nltk_data...\n",
      "[nltk_data]   Package stopwords is already up-to-date!\n",
      "[nltk_data] Downloading package wordnet to\n",
      "[nltk_data]     /Users/preethamvignesh/nltk_data...\n",
      "[nltk_data]   Package wordnet is already up-to-date!\n",
      "[nltk_data] Downloading package punkt to\n",
      "[nltk_data]     /Users/preethamvignesh/nltk_data...\n",
      "[nltk_data]   Package punkt is already up-to-date!\n"
     ]
    },
    {
     "data": {
      "text/plain": [
       "True"
      ]
     },
     "execution_count": 2,
     "metadata": {},
     "output_type": "execute_result"
    }
   ],
   "source": [
    "nltk.download(\"stopwords\")\n",
    "stop_words = set(stopwords.words('english'))\n",
    "wordnet_lemmatizer = WordNetLemmatizer()\n",
    "nltk.download('wordnet')\n",
    "nltk.download(\"punkt\")"
   ]
  },
  {
   "cell_type": "markdown",
   "metadata": {},
   "source": [
    "-  __Cleaning the text, plotting, and prediction functions__"
   ]
  },
  {
   "cell_type": "code",
   "execution_count": 3,
   "metadata": {},
   "outputs": [],
   "source": [
    "#Cleans Text\n",
    "def normalizer(tweet):\n",
    "    no_urls = re.sub(r\"http\\S+\", \" \" ,tweet)\n",
    "    only_letters = re.sub(\"[^a-zA-Z]\", \" \",no_urls)\n",
    "    tokens = nltk.word_tokenize(only_letters)[2 :]\n",
    "    lower_case = [l.lower() for l in tokens]\n",
    "    filtered_result = list(filter(lambda l: l not in stop_words, lower_case))\n",
    "    #lemmas = [wordnet_lemmatizer.lemmatize(t) for t in filtered_result]\n",
    "    return filtered_result\n",
    "\n",
    "#Generate Plots for Model\n",
    "def plot_graphs(history, metric):\n",
    "  plt.figure( figsize=(16,12))\n",
    "  plt.rcParams.update({'font.size': 22})\n",
    "  plt.plot(history.history[metric])\n",
    "  #plt.plot(history.history['val_'+metric], '')\n",
    "  plt.xlabel(\"Epochs\")\n",
    "  plt.ylabel(metric)\n",
    "  plt.legend([metric, 'val_'+metric])\n",
    "  plt.show()\n",
    "\n",
    "#make a prediction on input text\n",
    "def predict_on_text(text):\n",
    "  \n",
    "  test_text = np.array([text])\n",
    "  test_df =  pd.DataFrame(test_text, columns = ['text'])\n",
    "\n",
    "  test_df['normalized_tweet'] = test_df.text.apply(normalizer)\n",
    "  X = test_df[\"normalized_tweet\"].astype(str)\n",
    "\n",
    "  df = token.texts_to_sequences(X)\n",
    "\n",
    "  df = tf.keras.preprocessing.sequence.pad_sequences(df, maxlen=max_length)\n",
    "\n",
    "  prediction = np.round(model.predict(df)[0][0])\n",
    "\n",
    "  if prediction:\n",
    "\n",
    "    return \"This is about Sports.\"\n",
    "\n",
    "  else:\n",
    "\n",
    "    return \"This is not about Sports.\"\n",
    "\n",
    "# compute accuracy\n",
    "def accuracy(y, y_hat):\n",
    "\n",
    "  acc = np.mean(y == y_hat)\n",
    "\n",
    "  print('The accuracy is: ' + str(acc))\n",
    "\n",
    "#generates confusion matrix\n",
    "def confusionMatrix(ys,preds):\n",
    "    \n",
    "    N = len(ys)\n",
    "    #Generate empty matrix\n",
    "    confuse = np.zeros((2,2),dtype=int)\n",
    "    \n",
    "    #loop through both arrays\n",
    "    for i in range(N):\n",
    "    \n",
    "      #increase count in entry of each label\n",
    "      confuse[ys[i],int(preds[i])] = confuse[ys[i],int(preds[i])] + 1\n",
    "    \n",
    "    #return as dataframe\n",
    "    return pd.DataFrame(confuse)"
   ]
  },
  {
   "cell_type": "code",
   "execution_count": 4,
   "metadata": {},
   "outputs": [],
   "source": [
    "import matplotlib.pyplot as plt\n",
    "plt.style.use('ggplot')\n",
    "\n",
    "def plot_history(history):\n",
    "    acc = history.history['accuracy']\n",
    "    val_acc = history.history['val_accuracy']\n",
    "    loss = history.history['loss']\n",
    "    val_loss = history.history['val_loss']\n",
    "    x = range(1, len(acc) + 1)\n",
    "\n",
    "    plt.figure(figsize=(12, 5))\n",
    "    plt.subplot(1, 2, 1)\n",
    "    plt.plot(x, acc, 'b', label='Training acc')\n",
    "    plt.plot(x, val_acc, 'r', label='Validation acc')\n",
    "    plt.title('Training and validation accuracy')\n",
    "    plt.legend()\n",
    "    plt.subplot(1, 2, 2)\n",
    "    plt.plot(x, loss, 'b', label='Training loss')\n",
    "    plt.plot(x, val_loss, 'r', label='Validation loss')\n",
    "    plt.title('Training and validation loss')\n",
    "    plt.legend()\n"
   ]
  },
  {
   "cell_type": "markdown",
   "metadata": {},
   "source": [
    "- __Read the datasets__"
   ]
  },
  {
   "cell_type": "code",
   "execution_count": 5,
   "metadata": {},
   "outputs": [],
   "source": [
    "#uploaded = files.upload()\n",
    "\n",
    "df = pd.read_csv(\"~/Desktop/Work/ML_EIT/Data/sports_data.csv\")\n",
    "\n",
    "#map data labels to 0 or 1 \n",
    "df.label = df[\"label\"].replace({\"not_sports\":0,\"sports\":1})\n",
    "\n",
    "#add cleaned data to the DataFrame\n",
    "df['normalized_tweet'] = df.title.apply(normalizer)\n",
    "\n",
    "#seperate X and y out as DataFrames\n",
    "X = df[\"normalized_tweet\"].astype(str)\n",
    "y = df[\"label\"]"
   ]
  },
  {
   "cell_type": "code",
   "execution_count": 6,
   "metadata": {},
   "outputs": [
    {
     "data": {
      "text/html": [
       "<div>\n",
       "<style scoped>\n",
       "    .dataframe tbody tr th:only-of-type {\n",
       "        vertical-align: middle;\n",
       "    }\n",
       "\n",
       "    .dataframe tbody tr th {\n",
       "        vertical-align: top;\n",
       "    }\n",
       "\n",
       "    .dataframe thead th {\n",
       "        text-align: right;\n",
       "    }\n",
       "</style>\n",
       "<table border=\"1\" class=\"dataframe\">\n",
       "  <thead>\n",
       "    <tr style=\"text-align: right;\">\n",
       "      <th></th>\n",
       "      <th>Unnamed: 0</th>\n",
       "      <th>title</th>\n",
       "      <th>subreddit</th>\n",
       "      <th>label</th>\n",
       "      <th>normalized_tweet</th>\n",
       "    </tr>\n",
       "  </thead>\n",
       "  <tbody>\n",
       "    <tr>\n",
       "      <th>0</th>\n",
       "      <td>0</td>\n",
       "      <td>Fake News Report: Orient Daily Newspaper Tende...</td>\n",
       "      <td>religion</td>\n",
       "      <td>0</td>\n",
       "      <td>[report, orient, daily, newspaper, tenders, ap...</td>\n",
       "    </tr>\n",
       "    <tr>\n",
       "      <th>1</th>\n",
       "      <td>1</td>\n",
       "      <td>How to get signed/tryout for any ACB team?</td>\n",
       "      <td>Basketball</td>\n",
       "      <td>1</td>\n",
       "      <td>[get, signed, tryout, acb, team]</td>\n",
       "    </tr>\n",
       "    <tr>\n",
       "      <th>2</th>\n",
       "      <td>2</td>\n",
       "      <td>So calming 🍃</td>\n",
       "      <td>Forest</td>\n",
       "      <td>0</td>\n",
       "      <td>[]</td>\n",
       "    </tr>\n",
       "    <tr>\n",
       "      <th>3</th>\n",
       "      <td>3</td>\n",
       "      <td>How violent is Rezero compared to Attack on ti...</td>\n",
       "      <td>anime</td>\n",
       "      <td>0</td>\n",
       "      <td>[rezero, compared, attack, titan, vinland, saga]</td>\n",
       "    </tr>\n",
       "    <tr>\n",
       "      <th>4</th>\n",
       "      <td>4</td>\n",
       "      <td>Forest near a little vilage in Mk</td>\n",
       "      <td>Forest</td>\n",
       "      <td>0</td>\n",
       "      <td>[little, vilage, mk]</td>\n",
       "    </tr>\n",
       "  </tbody>\n",
       "</table>\n",
       "</div>"
      ],
      "text/plain": [
       "   Unnamed: 0                                              title   subreddit  \\\n",
       "0           0  Fake News Report: Orient Daily Newspaper Tende...    religion   \n",
       "1           1         How to get signed/tryout for any ACB team?  Basketball   \n",
       "2           2                                       So calming 🍃      Forest   \n",
       "3           3  How violent is Rezero compared to Attack on ti...       anime   \n",
       "4           4                  Forest near a little vilage in Mk      Forest   \n",
       "\n",
       "   label                                   normalized_tweet  \n",
       "0      0  [report, orient, daily, newspaper, tenders, ap...  \n",
       "1      1                   [get, signed, tryout, acb, team]  \n",
       "2      0                                                 []  \n",
       "3      0   [rezero, compared, attack, titan, vinland, saga]  \n",
       "4      0                               [little, vilage, mk]  "
      ]
     },
     "execution_count": 6,
     "metadata": {},
     "output_type": "execute_result"
    }
   ],
   "source": [
    "df.head()"
   ]
  },
  {
   "cell_type": "code",
   "execution_count": 7,
   "metadata": {},
   "outputs": [],
   "source": [
    "max_features = 50000 #we set maximum number of words to 5000\n",
    "max_length = 100 #we set maximum sequence length to 400\n",
    "embedding_dim = 50 \n",
    "\n",
    "token = tf.keras.preprocessing.text.Tokenizer(num_words=max_features) \n",
    "token.fit_on_texts(X)\n",
    "\n",
    "vocab_size = len(token.word_index) + 1 \n",
    "\n",
    "#conver X to a TensorFlow Type and add padding\n",
    "df = token.texts_to_sequences(X)\n",
    "df = tf.keras.preprocessing.sequence.pad_sequences(df, maxlen=max_length)\n"
   ]
  },
  {
   "cell_type": "markdown",
   "metadata": {},
   "source": [
    "- __Split the datasets__"
   ]
  },
  {
   "cell_type": "code",
   "execution_count": 8,
   "metadata": {},
   "outputs": [],
   "source": [
    "df = df.astype('int')\n",
    "X_train, X_test, y_train, y_test = train_test_split(df, y,test_size=0.15,random_state=101)\n",
    "\n",
    "X_train, X_val, y_train, y_val = train_test_split(X_train, y_train, test_size=0.10, random_state=1)"
   ]
  },
  {
   "cell_type": "code",
   "execution_count": 9,
   "metadata": {},
   "outputs": [
    {
     "data": {
      "text/plain": [
       "100"
      ]
     },
     "execution_count": 9,
     "metadata": {},
     "output_type": "execute_result"
    }
   ],
   "source": [
    "# determine the number of input features\n",
    "n_features = X_train.shape[1]\n",
    "n_features"
   ]
  },
  {
   "cell_type": "markdown",
   "metadata": {},
   "source": [
    "- __Model architecture__"
   ]
  },
  {
   "cell_type": "code",
   "execution_count": 10,
   "metadata": {},
   "outputs": [
    {
     "name": "stdout",
     "output_type": "stream",
     "text": [
      "Model: \"sequential\"\n",
      "_________________________________________________________________\n",
      "Layer (type)                 Output Shape              Param #   \n",
      "=================================================================\n",
      "embedding (Embedding)        (None, 100, 50)           662800    \n",
      "_________________________________________________________________\n",
      "global_max_pooling1d (Global (None, 50)                0         \n",
      "_________________________________________________________________\n",
      "dense (Dense)                (None, 16)                816       \n",
      "_________________________________________________________________\n",
      "dense_1 (Dense)              (None, 1)                 17        \n",
      "=================================================================\n",
      "Total params: 663,633\n",
      "Trainable params: 663,633\n",
      "Non-trainable params: 0\n",
      "_________________________________________________________________\n"
     ]
    }
   ],
   "source": [
    "from keras.models import Sequential\n",
    "from keras import layers\n",
    "\n",
    "model = Sequential()\n",
    "model.add(layers.Embedding(input_dim=vocab_size,\n",
    "                           output_dim=embedding_dim,\n",
    "                           input_length=max_length))\n",
    "# model.add(layers.Flatten())\n",
    "model.add(layers.GlobalMaxPool1D())\n",
    "model.add(layers.Dense(16,activation='relu'))\n",
    "model.add(layers.Dense(1,activation='sigmoid',kernel_initializer='uniform'))\n",
    "\n",
    "model.compile(optimizer=\"adam\",\n",
    "             loss='binary_crossentropy',metrics=[\"accuracy\"])\n",
    "\n",
    "model.summary()"
   ]
  },
  {
   "cell_type": "code",
   "execution_count": 11,
   "metadata": {},
   "outputs": [
    {
     "name": "stdout",
     "output_type": "stream",
     "text": [
      "Epoch 1/10\n",
      "185/185 [==============================] - 2s 9ms/step - loss: 0.6791 - accuracy: 0.5770\n",
      "Epoch 2/10\n",
      "185/185 [==============================] - 2s 9ms/step - loss: 0.3456 - accuracy: 0.9110\n",
      "Epoch 3/10\n",
      "185/185 [==============================] - 2s 8ms/step - loss: 0.1417 - accuracy: 0.9541\n",
      "Epoch 4/10\n",
      "185/185 [==============================] - 2s 8ms/step - loss: 0.0813 - accuracy: 0.9716\n",
      "Epoch 5/10\n",
      "185/185 [==============================] - 1s 8ms/step - loss: 0.0620 - accuracy: 0.9768\n",
      "Epoch 6/10\n",
      "185/185 [==============================] - 2s 9ms/step - loss: 0.0609 - accuracy: 0.9723\n",
      "Epoch 7/10\n",
      "185/185 [==============================] - 2s 9ms/step - loss: 0.0532 - accuracy: 0.9774\n",
      "Epoch 8/10\n",
      "185/185 [==============================] - 1s 8ms/step - loss: 0.0518 - accuracy: 0.9765\n",
      "Epoch 9/10\n",
      "185/185 [==============================] - 2s 8ms/step - loss: 0.0525 - accuracy: 0.9761\n",
      "Epoch 10/10\n",
      "185/185 [==============================] - 1s 8ms/step - loss: 0.0509 - accuracy: 0.9752\n"
     ]
    }
   ],
   "source": [
    "history=model.fit(np.array(X_train), np.array(y_train), batch_size=50,epochs=10) "
   ]
  },
  {
   "cell_type": "code",
   "execution_count": 12,
   "metadata": {},
   "outputs": [
    {
     "name": "stdout",
     "output_type": "stream",
     "text": [
      "57/57 [==============================] - 0s 1ms/step - loss: 0.2884 - accuracy: 0.8942\n"
     ]
    },
    {
     "data": {
      "text/plain": [
       "[0.28838300704956055, 0.8941565752029419]"
      ]
     },
     "execution_count": 12,
     "metadata": {},
     "output_type": "execute_result"
    }
   ],
   "source": [
    "model.evaluate(X_test,y_test)"
   ]
  },
  {
   "cell_type": "code",
   "execution_count": 13,
   "metadata": {},
   "outputs": [
    {
     "name": "stdout",
     "output_type": "stream",
     "text": [
      "Epoch 1/20\n",
      "178/178 [==============================] - 2s 13ms/step - loss: 0.0500 - accuracy: 0.9743 - val_loss: 0.2950 - val_accuracy: 0.8980\n",
      "Epoch 2/20\n",
      "178/178 [==============================] - 2s 9ms/step - loss: 0.0486 - accuracy: 0.9756 - val_loss: 0.2999 - val_accuracy: 0.8947\n",
      "Epoch 3/20\n",
      "178/178 [==============================] - 2s 9ms/step - loss: 0.0487 - accuracy: 0.9750 - val_loss: 0.3025 - val_accuracy: 0.8942\n",
      "Epoch 4/20\n",
      "178/178 [==============================] - 2s 9ms/step - loss: 0.0488 - accuracy: 0.9743 - val_loss: 0.3080 - val_accuracy: 0.8936\n",
      "Epoch 5/20\n",
      "178/178 [==============================] - 2s 9ms/step - loss: 0.0483 - accuracy: 0.9761 - val_loss: 0.3094 - val_accuracy: 0.8958\n",
      "Epoch 6/20\n",
      "178/178 [==============================] - 2s 9ms/step - loss: 0.0477 - accuracy: 0.9760 - val_loss: 0.3122 - val_accuracy: 0.8942\n",
      "Epoch 7/20\n",
      "178/178 [==============================] - 2s 9ms/step - loss: 0.0483 - accuracy: 0.9745 - val_loss: 0.3143 - val_accuracy: 0.8953\n",
      "Epoch 8/20\n",
      "178/178 [==============================] - 2s 9ms/step - loss: 0.0468 - accuracy: 0.9753 - val_loss: 0.3155 - val_accuracy: 0.8947\n",
      "Epoch 9/20\n",
      "178/178 [==============================] - 2s 10ms/step - loss: 0.0475 - accuracy: 0.9765 - val_loss: 0.3205 - val_accuracy: 0.8908\n",
      "Epoch 10/20\n",
      "178/178 [==============================] - 2s 9ms/step - loss: 0.0480 - accuracy: 0.9759 - val_loss: 0.3211 - val_accuracy: 0.8942\n",
      "Epoch 11/20\n",
      "178/178 [==============================] - 2s 9ms/step - loss: 0.0476 - accuracy: 0.9752 - val_loss: 0.3225 - val_accuracy: 0.8925\n",
      "Epoch 12/20\n",
      "178/178 [==============================] - 2s 9ms/step - loss: 0.0467 - accuracy: 0.9754 - val_loss: 0.3267 - val_accuracy: 0.8931\n",
      "Epoch 13/20\n",
      "178/178 [==============================] - 2s 9ms/step - loss: 0.0471 - accuracy: 0.9767 - val_loss: 0.3266 - val_accuracy: 0.8931\n",
      "Epoch 14/20\n",
      "178/178 [==============================] - 1s 8ms/step - loss: 0.0470 - accuracy: 0.9753 - val_loss: 0.3283 - val_accuracy: 0.8925\n",
      "Epoch 15/20\n",
      "178/178 [==============================] - 2s 9ms/step - loss: 0.0464 - accuracy: 0.9756 - val_loss: 0.3313 - val_accuracy: 0.8925\n",
      "Epoch 16/20\n",
      "178/178 [==============================] - 2s 9ms/step - loss: 0.0471 - accuracy: 0.9758 - val_loss: 0.3312 - val_accuracy: 0.8897\n",
      "Epoch 17/20\n",
      "178/178 [==============================] - 1s 8ms/step - loss: 0.0463 - accuracy: 0.9757 - val_loss: 0.3347 - val_accuracy: 0.8897\n",
      "Epoch 18/20\n",
      "178/178 [==============================] - 2s 9ms/step - loss: 0.0469 - accuracy: 0.9758 - val_loss: 0.3347 - val_accuracy: 0.8920\n",
      "Epoch 19/20\n",
      "178/178 [==============================] - 2s 9ms/step - loss: 0.0465 - accuracy: 0.9761 - val_loss: 0.3359 - val_accuracy: 0.8914\n",
      "Epoch 20/20\n",
      "178/178 [==============================] - 2s 9ms/step - loss: 0.0468 - accuracy: 0.9757 - val_loss: 0.3392 - val_accuracy: 0.8908\n",
      "Training Accuracy: 0.9778\n",
      "Testing Accuracy:  0.8908\n"
     ]
    },
    {
     "data": {
      "image/png": "[encoded data removed]",
      "text/plain": [
       "<Figure size 864x360 with 2 Axes>"
      ]
     },
     "metadata": {},
     "output_type": "display_data"
    }
   ],
   "source": [
    "history = model.fit(X_train, y_train,\n",
    "                    epochs=20,\n",
    "                    verbose=True,\n",
    "                    validation_data=(X_test, y_test),\n",
    "                    batch_size=52)\n",
    "\n",
    "loss, accuracy = model.evaluate(X_train, y_train, verbose=False)\n",
    "print(\"Training Accuracy: {:.4f}\".format(accuracy))\n",
    "loss, accuracy = model.evaluate(X_test, y_test, verbose=False)\n",
    "print(\"Testing Accuracy:  {:.4f}\".format(accuracy))\n",
    "plot_history(history)"
   ]
  },
  {
   "cell_type": "markdown",
   "metadata": {},
   "source": [
    "- Predict the test data and evaluate the confusion matrix and accuracy"
   ]
  },
  {
   "cell_type": "code",
   "execution_count": 14,
   "metadata": {},
   "outputs": [
    {
     "name": "stdout",
     "output_type": "stream",
     "text": [
      "Confusion matrix:\n",
      "[[831  76]\n",
      " [122 785]]\n",
      "Accuracy: 89.08%\n"
     ]
    }
   ],
   "source": [
    "y_pred = model.predict(X_test)\n",
    "y_pred = y_pred > 0.5\n",
    "\n",
    "con_res = confusion_matrix(y_test, y_pred)\n",
    "print(\"Confusion matrix:\")\n",
    "print(confusion_matrix(y_test,y_pred))\n",
    "print(\"Accuracy: {:.2f}%\".format(accuracy_score(y_test, y_pred)*100))"
   ]
  },
  {
   "cell_type": "markdown",
   "metadata": {},
   "source": [
    "**Confusion matrix**\n",
    "\n",
    "- More information and different ways of confusion matrix: https://stackoverflow.com/questions/35572000/how-can-i-plot-a-confusion-matrix"
   ]
  },
  {
   "cell_type": "code",
   "execution_count": 16,
   "metadata": {},
   "outputs": [
    {
     "data": {
      "image/png": "[encoded data removed]",
      "text/plain": [
       "<Figure size 576x576 with 1 Axes>"
      ]
     },
     "metadata": {},
     "output_type": "display_data"
    }
   ],
   "source": [
    "%run -i '/Users/preethamvignesh/Desktop/Work/ML_EIT/confusion_matrix_different_ways.py'\n",
    "df_confmatrx = pd.DataFrame(con_res, range(2),range(2))\n",
    "df_confmatrx\n",
    "cmap = 'PuRd'\n",
    "confusion_matrix_dfrntway(df_confmatrx, cmap=cmap,fz=17)"
   ]
  },
  {
   "cell_type": "code",
   "execution_count": null,
   "metadata": {},
   "outputs": [],
   "source": []
  }
 ],
 "metadata": {
  "kernelspec": {
   "display_name": "Python 3",
   "language": "python",
   "name": "python3"
  },
  "language_info": {
   "codemirror_mode": {
    "name": "ipython",
    "version": 3
   },
   "file_extension": ".py",
   "mimetype": "text/x-python",
   "name": "python",
   "nbconvert_exporter": "python",
   "pygments_lexer": "ipython3",
   "version": "3.8.5"
  }
 },
 "nbformat": 4,
 "nbformat_minor": 4
}
